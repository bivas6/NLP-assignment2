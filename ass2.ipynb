{
 "cells": [
  {
   "cell_type": "markdown",
   "metadata": {},
   "source": [
    "# Assignment 2"
   ]
  },
  {
   "cell_type": "markdown",
   "metadata": {},
   "source": [
    "# 1: Word Classification"
   ]
  },
  {
   "cell_type": "markdown",
   "metadata": {},
   "source": [
    "## 1.1: Evaluation Metrics"
   ]
  },
  {
   "cell_type": "code",
   "execution_count": 1,
   "metadata": {},
   "outputs": [],
   "source": [
    "from collections import defaultdict\n",
    "import numpy as np\n",
    "import gzip\n",
    "from sklearn.naive_bayes import GaussianNB\n",
    "import matplotlib.pyplot as plt\n",
    "import matplotlib\n",
    "%matplotlib inline\n",
    "#### Q1.1 Evaluation Metrics ####\n",
    "\n",
    "## Input: y_pred, a list of length n with the predicted labels,\n",
    "## y_true, a list of length n with the true labels\n",
    "\n",
    "## Calculates the precision of the predicted labels\n",
    "\n",
    "def get_precision(y_pred, y_true):\n",
    "    tp = 0\n",
    "    fp = 0\n",
    "    for i in range(len(y_pred)):\n",
    "        if y_pred[i] == 1 and y_true[i] == 1:\n",
    "            tp += 1\n",
    "        elif y_pred[i] == 1 and y_true[i] == 0:\n",
    "            fp +=1\n",
    "    return tp/(tp+fp)\n",
    "    \n",
    "## Calculates the recall of the predicted labels\n",
    "def get_recall(y_pred, y_true):\n",
    "    tp = 0\n",
    "    fn = 0\n",
    "    for i in range(len(y_pred)):\n",
    "        if y_pred[i] == 1 and y_true[i] == 1:\n",
    "            tp += 1\n",
    "        elif y_pred[i] == 0 and y_true[i] == 1:\n",
    "            fn += 1\n",
    "    return tp/(tp+fn)\n",
    "\n",
    "## Calculates the f-score of the predicted labels\n",
    "def get_fscore(y_pred, y_true):\n",
    "    pre = get_precision(y_pred, y_true)\n",
    "    rec = get_recall(y_pred, y_true)\n",
    "    return 2*(pre*rec)/(pre+rec) # harmonic averasge of precision and recall measures\n",
    "\n",
    "def get_all_metrics(y_pred, y_true):\n",
    "    return [get_precision(y_pred, y_true), get_recall(y_pred, y_true), get_fscore(y_pred, y_true)]\n",
    "\n",
    "def test_predictions(y_pred, y_true):\n",
    "    print(\"precision is {}\".format(get_precision(y_pred, y_true)))\n",
    "    print(\"recall is {}\".format(get_recall(y_pred, y_true)))\n",
    "    print(\"fscore is {}\".format(get_fscore(y_pred, y_true)))"
   ]
  },
  {
   "cell_type": "code",
   "execution_count": 2,
   "metadata": {},
   "outputs": [],
   "source": [
    "# sanity check 1.1\n",
    "pred_labels = [1,0,1,0,1]\n",
    "true_labels = [1,1,1,1,1]"
   ]
  },
  {
   "cell_type": "markdown",
   "metadata": {},
   "source": [
    "We expect to get precision of 100%, recall of 60%, and fscore 75%"
   ]
  },
  {
   "cell_type": "code",
   "execution_count": 3,
   "metadata": {},
   "outputs": [
    {
     "name": "stdout",
     "output_type": "stream",
     "text": [
      "precision is 1.0\n",
      "recall is 0.6\n",
      "fscore is 0.7499999999999999\n"
     ]
    }
   ],
   "source": [
    "test_predictions(pred_labels, true_labels)"
   ]
  },
  {
   "cell_type": "code",
   "execution_count": 4,
   "metadata": {},
   "outputs": [],
   "source": [
    "pred_labels = [1,1,1,1,1]\n",
    "true_labels = [1,0,1,0,1]"
   ]
  },
  {
   "cell_type": "markdown",
   "metadata": {},
   "source": [
    "We expect to get precision of 60%, recall of 100%, and fscore 75%"
   ]
  },
  {
   "cell_type": "code",
   "execution_count": 5,
   "metadata": {},
   "outputs": [
    {
     "name": "stdout",
     "output_type": "stream",
     "text": [
      "precision is 0.6\n",
      "recall is 1.0\n",
      "fscore is 0.7499999999999999\n"
     ]
    }
   ],
   "source": [
    "test_predictions(pred_labels, true_labels)"
   ]
  },
  {
   "cell_type": "markdown",
   "metadata": {},
   "source": [
    "We expect to get 100% score on 1.1  :-)"
   ]
  },
  {
   "cell_type": "markdown",
   "metadata": {},
   "source": [
    "## 1.2: Baselines"
   ]
  },
  {
   "cell_type": "code",
   "execution_count": 6,
   "metadata": {},
   "outputs": [],
   "source": [
    "## Loads in the words and labels of one of the datasets\n",
    "def load_file(data_file):\n",
    "    words = []\n",
    "    labels = []   \n",
    "    with open(data_file, 'rt', encoding=\"utf8\") as f:\n",
    "        i = 0\n",
    "        for line in f:\n",
    "            if i > 0:\n",
    "                line_split = line[:-1].split(\"\\t\")\n",
    "                words.append(line_split[0].lower())\n",
    "                labels.append(int(line_split[1]))\n",
    "            i += 1\n",
    "    return words, labels"
   ]
  },
  {
   "cell_type": "markdown",
   "metadata": {},
   "source": [
    "### 1.2.1: Majority Class Baseline"
   ]
  },
  {
   "cell_type": "code",
   "execution_count": 7,
   "metadata": {},
   "outputs": [],
   "source": [
    "### 1.2.1: A very simple baseline\n",
    "\n",
    "## Labels every word complex\n",
    "def all_complex(data_file):\n",
    "    words, labels = load_file(data_file)\n",
    "    return get_all_metrics([1]*len(labels), labels)"
   ]
  },
  {
   "cell_type": "markdown",
   "metadata": {},
   "source": [
    "Of course, we should get perfect recall. Precision and fscore which is affected by the precision, are dependent on the number of complex (label '1') words in the dataset. In fact, the precision will tell us the percentage of 'complex' words in the data."
   ]
  },
  {
   "cell_type": "code",
   "execution_count": 8,
   "metadata": {},
   "outputs": [
    {
     "data": {
      "text/plain": [
       "[0.43275, 1.0, 0.604083057058105]"
      ]
     },
     "execution_count": 8,
     "metadata": {},
     "output_type": "execute_result"
    }
   ],
   "source": [
    "all_complex(\"../data/complex_words_training.txt\")"
   ]
  },
  {
   "cell_type": "code",
   "execution_count": 9,
   "metadata": {},
   "outputs": [
    {
     "data": {
      "text/plain": [
       "[0.418, 1.0, 0.5895627644569816]"
      ]
     },
     "execution_count": 9,
     "metadata": {},
     "output_type": "execute_result"
    }
   ],
   "source": [
    "all_complex(\"../data/complex_words_development.txt\")"
   ]
  },
  {
   "cell_type": "markdown",
   "metadata": {},
   "source": [
    "As expected, perfect accuracy. Training dataset has 43% complex words, and development set only 41%. As it happens, our classifier isn't actually 'magority classfier'. If we would choose to predict '0' for all the words, we will improve on both training and development sets."
   ]
  },
  {
   "cell_type": "markdown",
   "metadata": {},
   "source": [
    "### 1.2.2: Word Length Baseline"
   ]
  },
  {
   "cell_type": "markdown",
   "metadata": {},
   "source": [
    "We'll try to find the word length threshold. We expect to find such a threshold, due to our prior knowledge of the language - we know that, in general, longer words are less known and more 'complex'. This is probably because the way a langauge is evolved: at first, people took short words to signal meanings which were commonly used, as it is makes communication shorter and simpler. Derivations, inflections and other greens came later on. Therefore, we expect that at some word length and above, (almost) every word will be classified as 'complex'. This is the proof that there is a threshold and it isn't a monotonic function."
   ]
  },
  {
   "cell_type": "code",
   "execution_count": 10,
   "metadata": {},
   "outputs": [],
   "source": [
    "def word_length_classifier(file, length):\n",
    "    words, labels = load_file(file)\n",
    "    y_pred = [1 if len(w) >= length else 0 for w in words]               \n",
    "    return get_all_metrics(y_pred, labels)\n",
    "\n",
    "## Finds the best length threshold by f-score, and uses this threshold to\n",
    "## classify the training and development set\n",
    "## Also, draws a graph for recall X precision for the training data\n",
    "def word_length_threshold(training_file, development_file):\n",
    "    threshold = -1\n",
    "    best_fscore = 0.0\n",
    "    best_training_peformance = []\n",
    "    xs = []\n",
    "    ys = []\n",
    "    for word_length in range(20):  # Assuming by prior knowledge of English, \n",
    "                                    # that the threshold must be in that range\n",
    "        training_performance = word_length_classifier(training_file, word_length)\n",
    "        if best_fscore < training_performance[2]:\n",
    "            best_fscore = training_performance[2]\n",
    "            threshold = word_length\n",
    "            best_training_peformance = training_performance\n",
    "        xs.append(training_performance[1])\n",
    "        ys.append(training_performance[0])\n",
    "    \n",
    "    plt.plot(xs, ys)\n",
    "    plt.xlabel('recall')\n",
    "    plt.ylabel('precision')\n",
    "    plt.title('percision and recall as the word length reduces')\n",
    "    plt.show()\n",
    "    round_xs = [round(x,2) for x in xs]\n",
    "    round_ys = [round(y,2) for y in ys]\n",
    "    print (\"recall:\\n{}\\nprecision: \\n{}\".format(round_xs, round_ys))\n",
    "    print (\"Threshold is {}\".format(threshold))\n",
    "    \n",
    "    development_performance = word_length_classifier(development_file, threshold)\n",
    "\n",
    "    return best_training_peformance, development_performance"
   ]
  },
  {
   "cell_type": "markdown",
   "metadata": {},
   "source": [
    "Since we consider all relevant word length range, we should expect the following: clearly, for length of 0, the classifier labels all words with '1', and consequently equals the 'majority classifier'. Actually, since we expect words of length 1 and 2 to be all simple, the appropriate calssifiers are also 'majority classifiers'. We would expect them to have perfect recall and 43% precision, according the results we got above. On the other side of the scale, we would expect to get very poor recall for word length of 15-19, since these lengths implies all labels to be '0' and no true prediction is made. The recall should be monotonically decreasing with the increase of word length, due to the fact that we're 'hitting' less '1's or 'complex' words out of the total '1's. Precision should have a peak where the tradeoff between being cautious [=predicting '1's only when we're sure, i.e. for long words] and being reckless [=predicting too many '1's, even for very short words] is optimal."
   ]
  },
  {
   "cell_type": "code",
   "execution_count": 11,
   "metadata": {},
   "outputs": [
    {
     "data": {
      "image/png": "[encoded data removed]",
      "text/plain": [
       "<Figure size 432x288 with 1 Axes>"
      ]
     },
     "metadata": {
      "needs_background": "light"
     },
     "output_type": "display_data"
    },
    {
     "name": "stdout",
     "output_type": "stream",
     "text": [
      "recall:\n",
      "[1.0, 1.0, 1.0, 1.0, 0.99, 0.97, 0.93, 0.84, 0.71, 0.54, 0.36, 0.22, 0.13, 0.07, 0.04, 0.02, 0.01, 0.01, 0.0, 0.0]\n",
      "precision: \n",
      "[0.43, 0.43, 0.43, 0.43, 0.44, 0.48, 0.54, 0.6, 0.68, 0.75, 0.77, 0.78, 0.79, 0.78, 0.75, 0.75, 0.69, 0.76, 0.7, 0.5]\n",
      "Threshold is 7\n",
      "For the threshold [precision, recall, f_score]:\n",
      " train - 0.601 0.844 0.702\n",
      " dev - 0.605 0.866 0.713\n"
     ]
    }
   ],
   "source": [
    "best_train_perf, dev_perf = word_length_threshold(\"../data/complex_words_training.txt\", \"../data/complex_words_development.txt\")\n",
    "print (\"For the threshold [precision, recall, f_score]:\\n train - {0:.3f} {1:.3f} {2:.3f}\\n dev - {3:.3f} {4:.3f} {5:.3f}\"\\\n",
    "       .format(best_train_perf[0], best_train_perf[1], best_train_perf[2], dev_perf[0], dev_perf[1], dev_perf[2]))"
   ]
  },
  {
   "cell_type": "markdown",
   "metadata": {},
   "source": [
    "In general, our predictions were correct. The minor decrease in the left part of the graph, is probably caused by a defection in the data: one of the longer words groups (lenght of 16) had relatively few complex words in it, and the precision declined momentarily."
   ]
  },
  {
   "cell_type": "markdown",
   "metadata": {},
   "source": [
    "### 1.2.3: Word frequency thresholding"
   ]
  },
  {
   "cell_type": "code",
   "execution_count": 12,
   "metadata": {},
   "outputs": [],
   "source": [
    "## Loads Google NGram counts\n",
    "def load_ngram_counts(ngram_counts_file): \n",
    "   counts = defaultdict(int) \n",
    "   with gzip.open(ngram_counts_file, 'rt', encoding=\"utf8\") as f: \n",
    "       for line in f:\n",
    "           token, count = line.strip().split('\\t') \n",
    "           if token[0].islower(): \n",
    "               counts[token] = int(count) \n",
    "   return counts"
   ]
  },
  {
   "cell_type": "markdown",
   "metadata": {},
   "source": [
    "Next, we classify the complexity of words according their used frequency. The 'crazy know all' Google collected such information, and we use a sample of more than 8 million words with their appropriate frequency (probably, the number of times each appeared in a huge text corpus). We assume that if a word is frequent, it implies that many people use it, and therefore know it and regard them as 'readable' for other people as well. In short, many people treat this words as 'simple' to some extent. In fact, in some way, it extends hugely our data and development sets (although, without actual labels).\n",
    "We expect to see similar results as in the word length threshold: recall will be perfect above a specific chosen frequency, since we will label everything as complex (or at least, everthing which is only a little complex and above, which, in practice, will be all the words we are looking at). Since 'The' appears around 50 billion times (in all it's forms: 'the', 'The', 'THE') in the Google corpus, it seems rational to think that the best threshold will be under 250 million (because of the huge decrease in the frequency function). We'll look for it in jumps of 10 millions."
   ]
  },
  {
   "cell_type": "code",
   "execution_count": 13,
   "metadata": {},
   "outputs": [
    {
     "data": {
      "image/png": "[encoded data removed]",
      "text/plain": [
       "<Figure size 432x288 with 1 Axes>"
      ]
     },
     "metadata": {
      "needs_background": "light"
     },
     "output_type": "display_data"
    },
    {
     "name": "stdout",
     "output_type": "stream",
     "text": [
      "recall:\n",
      "[0.04, 0.69, 0.82, 0.87, 0.92, 0.94, 0.96, 0.98, 0.98, 0.99, 0.99, 0.99, 0.99, 0.99, 0.99, 1.0, 1.0, 1.0, 1.0, 1.0, 1.0, 1.0, 1.0, 1.0, 1.0]\n",
      "precision: \n",
      "[0.38, 0.6, 0.56, 0.53, 0.52, 0.51, 0.5, 0.49, 0.48, 0.48, 0.47, 0.47, 0.46, 0.46, 0.46, 0.45, 0.45, 0.45, 0.45, 0.45, 0.45, 0.45, 0.44, 0.44, 0.44]\n",
      "Threshold is 20000000\n",
      "For the threshold [precision, recall, f_score]:\n",
      " train - 0.564 0.816 0.667\n",
      " dev - 0.556 0.844 0.670\n"
     ]
    }
   ],
   "source": [
    "def word_frequency_classifier(file, freq):\n",
    "    global counts\n",
    "    words, labels = load_file(file)\n",
    "    y_pred = [1 if counts[w] <= freq else 0 for w in words]\n",
    "    return get_all_metrics(y_pred, labels)\n",
    "\n",
    "# Finds the best frequency threshold by f-score, and uses this threshold to\n",
    "## classify the training and development set\n",
    "def word_frequency_threshold(training_file, development_file, counts):\n",
    "    threshold = -1\n",
    "    best_fscore = 0.0\n",
    "    best_training_peformance = []\n",
    "    xs = []\n",
    "    ys = []\n",
    "    for word_freq in range(0, 250000000, 10000000):\n",
    "        training_performance = word_frequency_classifier(training_file, word_freq)\n",
    "        if best_fscore < training_performance[2]:\n",
    "            best_fscore = training_performance[2]\n",
    "            threshold = word_freq\n",
    "            best_training_peformance = training_performance\n",
    "        xs.append(training_performance[1])\n",
    "        ys.append(training_performance[0])\n",
    "    \n",
    "    plt.plot(xs, ys)\n",
    "    plt.xlabel('recall')\n",
    "    plt.ylabel('precision')\n",
    "    plt.title('percision and recall as the word frequency grows')\n",
    "    plt.show()\n",
    "    round_xs = [round(x,2) for x in xs]\n",
    "    round_ys = [round(y,2) for y in ys]\n",
    "    print (\"recall:\\n{}\\nprecision: \\n{}\".format(round_xs, round_ys))\n",
    "    print (\"Threshold is {}\".format(threshold))\n",
    "    \n",
    "    development_performance = word_frequency_classifier(development_file, threshold)\n",
    "\n",
    "    return best_training_peformance, development_performance\n",
    "\n",
    "counts = load_ngram_counts('../data/ngram_counts.txt.gz')\n",
    "best_train_perf, dev_perf = word_frequency_threshold(\"../data/complex_words_training.txt\",\\\n",
    "                                                     \"../data/complex_words_development.txt\", counts)\n",
    "print (\"For the threshold [precision, recall, f_score]:\\n train - {0:.3f} {1:.3f} {2:.3f}\\n dev - {3:.3f} {4:.3f} {5:.3f}\"\\\n",
    "       .format(best_train_perf[0], best_train_perf[1], best_train_perf[2], dev_perf[0], dev_perf[1], dev_perf[2]))"
   ]
  },
  {
   "cell_type": "markdown",
   "metadata": {},
   "source": [
    "Although the function has the predicted shape, the fine straight line on half the graph seems a little shady. Closer look reveals, that there's a huge jump in recall between word_freq of 0 to 10000000, which arouses suspicion that our search gap was too large. We'll to refine our search.\n",
    "Note, that for word freq of 0, we didn't get 0 recall, although we label all the words as 'simple', unless their frequency is 0. That would mean Google didn't see them. It seemed a little weird at first, but after the following check, we had to accept that some of the 'complex' words weren't seen by Google, and therefore are probably not real words."
   ]
  },
  {
   "cell_type": "code",
   "execution_count": 14,
   "metadata": {},
   "outputs": [
    {
     "name": "stdout",
     "output_type": "stream",
     "text": [
      "Number of words from the training set that Google didn't see is 164\n"
     ]
    }
   ],
   "source": [
    "words, _ = load_file(\"../data/complex_words_training.txt\")\n",
    "counter = 0\n",
    "for w in words:\n",
    "    if counts[w] == 0:\n",
    "        counter+=1\n",
    "print (\"Number of words from the training set that Google didn't see is {}\".format(counter))"
   ]
  },
  {
   "cell_type": "code",
   "execution_count": 15,
   "metadata": {},
   "outputs": [
    {
     "data": {
      "image/png": "[encoded data removed]",
      "text/plain": [
       "<Figure size 432x288 with 1 Axes>"
      ]
     },
     "metadata": {
      "needs_background": "light"
     },
     "output_type": "display_data"
    },
    {
     "name": "stdout",
     "output_type": "stream",
     "text": [
      "Threshold is 19900000\n",
      "For the threshold [precision, recall, f_score]:\n",
      " train - 0.566 0.816 0.668\n",
      " dev - 0.557 0.844 0.671\n"
     ]
    }
   ],
   "source": [
    "def word_frequency_threshold_refined(training_file, development_file, counts):\n",
    "    threshold = -1\n",
    "    best_fscore = 0.0\n",
    "    best_training_peformance = []\n",
    "    xs = []\n",
    "    ys = []\n",
    "    upper_bound = 200000000\n",
    "    lower_bound = 0\n",
    "    for gap in range(6, 2, -1):\n",
    "        for word_freq in range(lower_bound, upper_bound, 10**gap):\n",
    "            training_performance = word_frequency_classifier(training_file, word_freq)\n",
    "            if best_fscore < training_performance[2]:\n",
    "                best_fscore = training_performance[2]\n",
    "                threshold = word_freq\n",
    "                best_training_peformance = training_performance\n",
    "            xs.append(training_performance[1])\n",
    "            ys.append(training_performance[0])\n",
    "        lower_bound = threshold - 10**gap\n",
    "        upper_bound = threshold + 10**gap\n",
    "    \n",
    "    plt.plot(xs, ys)\n",
    "    plt.xlabel('recall')\n",
    "    plt.ylabel('precision')\n",
    "    plt.title('percision and recall as the word frequency grows')\n",
    "    plt.show()\n",
    "    print (\"Threshold is {}\".format(threshold))\n",
    "    \n",
    "    development_performance = word_frequency_classifier(development_file, threshold)\n",
    "\n",
    "    return best_training_peformance, development_performance\n",
    "\n",
    "counts = load_ngram_counts('../data/ngram_counts.txt.gz')\n",
    "best_train_perf, dev_perf = word_frequency_threshold_refined(\"../data/complex_words_training.txt\",\\\n",
    "                                                     \"../data/complex_words_development.txt\", counts)\n",
    "print (\"For the threshold [precision, recall, f_score]:\\n train - {0:.3f} {1:.3f} {2:.3f}\\n dev - {3:.3f} {4:.3f} {5:.3f}\"\\\n",
    "       .format(best_train_perf[0], best_train_perf[1], best_train_perf[2], dev_perf[0], dev_perf[1], dev_perf[2]))"
   ]
  },
  {
   "cell_type": "markdown",
   "metadata": {},
   "source": [
    "It seems that our former search was pretty good. The straight line remained since it's not where the refinement took place."
   ]
  },
  {
   "cell_type": "markdown",
   "metadata": {},
   "source": [
    "Surprisingly, the word lengths classifier achieved better results than the word frequencies classifier. Looks that the comment above about how this frequencies are very close to indicators about word complexity didn't stand in reality.\n",
    "Note: the upper line in the right side of the function is caused by the many dots we get in the area of the refinement. "
   ]
  },
  {
   "cell_type": "markdown",
   "metadata": {},
   "source": [
    "## 1.3 Classifiers"
   ]
  },
  {
   "cell_type": "markdown",
   "metadata": {},
   "source": [
    "### 1.3.1: Naive Bayes classification"
   ]
  },
  {
   "cell_type": "code",
   "execution_count": 16,
   "metadata": {},
   "outputs": [
    {
     "name": "stdout",
     "output_type": "stream",
     "text": [
      "([0.4950379451255108, 0.9797804737146159, 0.6577467519875897], [0.46929316338354576, 0.9688995215311005, 0.6323185011709602])\n"
     ]
    }
   ],
   "source": [
    "def naive_bayes(training_file, development_file, counts):\n",
    "    twords, tlabels = load_file(training_file)\n",
    "    word_lengths = [len(w) for w in twords]\n",
    "    word_counts = [counts[w] for w in twords]\n",
    "    lmean, lsd = get_list_mean_sd(word_lengths)\n",
    "    cmean, csd = get_list_mean_sd(word_counts)\n",
    "\n",
    "    # training the model\n",
    "    X_train=[((len(w)-lmean)/lsd, (counts[w]-cmean)/csd) for w in twords]\n",
    "    clf = GaussianNB()\n",
    "    clf.fit(X_train, tlabels)\n",
    "    \n",
    "    dwords, dlabels = load_file(development_file)\n",
    "    X_dev=[((len(w)-lmean)/lsd, (counts[w]-cmean)/csd) for w in dwords]\n",
    "    \n",
    "    # prediction\n",
    "    training_performance = get_all_metrics(clf.predict(X_train), tlabels)\n",
    "    development_performance = get_all_metrics(clf.predict(X_dev), dlabels)\n",
    "    return training_performance, development_performance\n",
    "\n",
    "def get_list_mean_sd(lst):\n",
    "    return np.average(lst), np.std(lst)\n",
    "\n",
    "if __name__ == \"__main__\":\n",
    "    training_file = \"../data/complex_words_training.txt\"\n",
    "    development_file = \"../data/complex_words_development.txt\"\n",
    "    \n",
    "    counts = load_ngram_counts('../data/ngram_counts.txt.gz')\n",
    "    \n",
    "    print(naive_bayes(training_file, development_file, counts))\n"
   ]
  },
  {
   "cell_type": "markdown",
   "metadata": {},
   "source": [
    "## 1.4: Ambiguity"
   ]
  },
  {
   "cell_type": "markdown",
   "metadata": {},
   "source": [
    "We'll simply try to find words which were labeled both 'simple' and 'complex', and the reason to the difference is likely to be the different contexts, which give the word a different meaning."
   ]
  },
  {
   "cell_type": "code",
   "execution_count": 17,
   "metadata": {},
   "outputs": [
    {
     "name": "stdout",
     "output_type": "stream",
     "text": [
      "Word: campaign\n",
      "Simple Context: `` Given the way the meeting transpired , '' Ray Halbritter , an Oneida representative and leader of the `` Change the Mascot Campaign , '' said Wednesday , `` it became somewhat evident they were defending the continued use of the name .\n",
      "Complex Context: The campaign around the Maine Bear Hunting Ban Initiative , which will appear on the ballot as Question 1 , has shed light on Maine 's unique status in the wildlife world .\n",
      "\n",
      "Word: element\n",
      "Simple Context: Element 118 , for example , is the heaviest element to date , with 118 protons alongside 176 neutrons .\n",
      "Complex Context: Arturo Sanchez is in his element .\n",
      "\n",
      "Word: inspired\n",
      "Simple Context: Inspired by their courage , demonstrators across the South adopted their `` jail not bail '' tactic and filled jail cells .\n",
      "Complex Context: Miguel Castañeda started Tech Connect in 2009 , inspired by a similar program in San Francisco .\n",
      "\n",
      "Word: district\n",
      "Simple Context: Before the jurors began their deliberations , District Judge George A. O'Toole Jr. reminded them that they had to decide if Tsarnaev would spend the rest of his life in prison or if he should be executed by the federal government .\n",
      "Complex Context: Now 80 and a resident of the Park La Brea complex in the Fairfax district , Prochnik uses that vat of chocolate as a centerpiece during talks about the Holocaust that he gives to schoolchildren .\n",
      "\n",
      "Word: commissioner\n",
      "Simple Context: NFL Commissioner Roger Goodell said he issued the penalties based on `` the critical importance of protecting the integrity of the game . ''\n",
      "Complex Context: `` As we have indicated earlier , another lawsuit of this type is not unexpected , '' NHL Deputy Commissioner Bill Daly said in an email to The Associated Press .\n",
      "\n",
      "Word: opponents\n",
      "Simple Context: Opponents led by a group called Save Maine 's Bear Hunt say the Humane Society 's involvement shows that this is a fight being bankrolled by outside lobby groups with a broader agenda of ending sport hunting nationwide .\n",
      "Complex Context: `` I love droppin ' 'em , '' she says about opponents .\n",
      "\n",
      "Word: sprouts\n",
      "Simple Context: The scientists were initially skeptical about what they would find on the construction site near the new Sprouts Farmers Market less than 100 yards from busy Matlock Road .\n",
      "Complex Context: An apple can kill , a sprinkle of sprouts can send you to the hospital and your succulent , pan-seared red snapper may actually be tilefish .\n",
      "\n",
      "Word: league\n",
      "Simple Context: One piece of that market , e-sport multiplayer video-gaming competitions , is expected to bring in $ 612 million this year for games such as Dota 2 and League of Legends .\n",
      "Complex Context: Tom Brady has been an NFL golden boy , with movie-star looks , a supermodel wife , four Super Bowl championship rings , and a regular-guy-makes-good back story -- he went from being a sixth-round draft pick to one of the greatest quarterbacks in league history .\n",
      "\n",
      "Word: hoverboard\n",
      "Simple Context: `` Hoverboard is on fire , '' he says in a video taken right after he jumped off the burning piece of equipment .\n",
      "Complex Context: Timothy Cade had only owned his hoverboard for three days when it exploded beneath him .\n",
      "\n",
      "Word: slavery\n",
      "Simple Context: Slavery was a `` side issue to the Civil War , '' said Pat Hardy , a Republican board member , when the board adopted the standards in 2010 .\n",
      "Complex Context: And when it comes to the Civil War , children are supposed to learn that the conflict was caused by `` sectionalism , states ' rights and slavery '' -- written deliberately in that order to telegraph slavery 's secondary role in driving the conflict , according to some members of the State Board of Education .\n",
      "\n"
     ]
    }
   ],
   "source": [
    "def load_file_with_sentences(data_file):\n",
    "    words = []\n",
    "    labels = []\n",
    "    sentences = []\n",
    "    with open(data_file, 'rt', encoding=\"utf8\") as f:\n",
    "        i = 0\n",
    "        for line in f:\n",
    "            if i > 0:\n",
    "                line_split = line[:-1].split(\"\\t\")\n",
    "                words.append(line_split[0].lower())\n",
    "                labels.append(int(line_split[1]))\n",
    "                sentences.append(line_split[3])\n",
    "            i += 1\n",
    "    return words, labels, sentences\n",
    "\n",
    "def context_sensitive(file):\n",
    "    words, labels, sentences = load_file_with_sentences(file)\n",
    "    complex_sentences = []\n",
    "    simple_sentences = []\n",
    "    ambigious_words = []\n",
    "    for i in range(len(words)):\n",
    "        for j in range(i+1, len(words)):\n",
    "            if words[i] == words[j] and not labels[i] == labels[j]:\n",
    "                ambigious_words.append(words[i])\n",
    "                if labels[i] == 1:\n",
    "                    complex_sentences.append(sentences[i])\n",
    "                    simple_sentences.append(sentences[j])\n",
    "                else:\n",
    "                    complex_sentences.append(sentences[j])\n",
    "                    simple_sentences.append(sentences[i])\n",
    "    return ambigious_words, simple_sentences, complex_sentences\n",
    "\n",
    "w, s, c = context_sensitive(\"../data/complex_words_training.txt\")\n",
    "for i in range(10):\n",
    "    print('Word: ' + w[i])\n",
    "    print('Simple Context: ' + s[i])\n",
    "    print('Complex Context: ' + c[i] + '\\n')"
   ]
  },
  {
   "cell_type": "markdown",
   "metadata": {},
   "source": [
    "We can see that our approach was correct in its core - in the second and seventh sentences (words 'element' and 'sprouts', appropriately), the observed word has a different meaning. It's unclear why the other words got different labels: a possible reason might belong with the experiment process - the annotators had to point at 'complex' words, and in some sentences, even the most 'complex' words were simple."
   ]
  },
  {
   "cell_type": "markdown",
   "metadata": {},
   "source": [
    "# 2: Document Classification"
   ]
  },
  {
   "cell_type": "markdown",
   "metadata": {},
   "source": [
    "## 2.1: Reuters Dataset"
   ]
  },
  {
   "cell_type": "markdown",
   "metadata": {},
   "source": [
    "The next cell is a copy of the code intended for initializing the dataset (which we were referred to in the homework page). Can be ignored."
   ]
  },
  {
   "cell_type": "code",
   "execution_count": 18,
   "metadata": {},
   "outputs": [],
   "source": [
    "# Authors: Eustache Diemert <eustache@diemert.fr>\n",
    "#          @FedericoV <https://github.com/FedericoV/>\n",
    "# License: BSD 3 clause\n",
    "\n",
    "from __future__ import print_function\n",
    "from glob import glob\n",
    "import itertools\n",
    "import os.path\n",
    "import re\n",
    "import tarfile\n",
    "import time\n",
    "import sys\n",
    "\n",
    "import numpy as np\n",
    "import matplotlib.pyplot as plt\n",
    "from matplotlib import rcParams\n",
    "\n",
    "from sklearn.externals.six.moves import html_parser\n",
    "from sklearn.externals.six.moves.urllib.request import urlretrieve\n",
    "from sklearn.datasets import get_data_home\n",
    "from sklearn.feature_extraction.text import HashingVectorizer\n",
    "from sklearn.linear_model import SGDClassifier\n",
    "from sklearn.linear_model import PassiveAggressiveClassifier\n",
    "from sklearn.linear_model import Perceptron\n",
    "from sklearn.naive_bayes import MultinomialNB\n",
    "\n",
    "\n",
    "def _not_in_sphinx():\n",
    "    # Hack to detect whether we are running by the sphinx builder\n",
    "    return '__file__' in globals()\n",
    "class ReutersParser(html_parser.HTMLParser):\n",
    "    \"\"\"Utility class to parse a SGML file and yield documents one at a time.\"\"\"\n",
    "\n",
    "    def __init__(self, encoding='latin-1'):\n",
    "        html_parser.HTMLParser.__init__(self)\n",
    "        self._reset()\n",
    "        self.encoding = encoding\n",
    "\n",
    "    def handle_starttag(self, tag, attrs):\n",
    "        method = 'start_' + tag\n",
    "        getattr(self, method, lambda x: None)(attrs)\n",
    "\n",
    "    def handle_endtag(self, tag):\n",
    "        method = 'end_' + tag\n",
    "        getattr(self, method, lambda: None)()\n",
    "\n",
    "    def _reset(self):\n",
    "        self.in_title = 0\n",
    "        self.in_body = 0\n",
    "        self.in_topics = 0\n",
    "        self.in_topic_d = 0\n",
    "        self.title = \"\"\n",
    "        self.body = \"\"\n",
    "        self.topics = []\n",
    "        self.topic_d = \"\"\n",
    "\n",
    "    def parse(self, fd):\n",
    "        self.docs = []\n",
    "        for chunk in fd:\n",
    "            self.feed(chunk.decode(self.encoding))\n",
    "            for doc in self.docs:\n",
    "                yield doc\n",
    "            self.docs = []\n",
    "        self.close()\n",
    "\n",
    "    def handle_data(self, data):\n",
    "        if self.in_body:\n",
    "            self.body += data\n",
    "        elif self.in_title:\n",
    "            self.title += data\n",
    "        elif self.in_topic_d:\n",
    "            self.topic_d += data\n",
    "\n",
    "    def start_reuters(self, attributes):\n",
    "        pass\n",
    "\n",
    "    def end_reuters(self):\n",
    "        self.body = re.sub(r'\\s+', r' ', self.body)\n",
    "        self.docs.append({'title': self.title,\n",
    "                          'body': self.body,\n",
    "                          'topics': self.topics})\n",
    "        self._reset()\n",
    "\n",
    "    def start_title(self, attributes):\n",
    "        self.in_title = 1\n",
    "\n",
    "    def end_title(self):\n",
    "        self.in_title = 0\n",
    "\n",
    "    def start_body(self, attributes):\n",
    "        self.in_body = 1\n",
    "\n",
    "    def end_body(self):\n",
    "        self.in_body = 0\n",
    "\n",
    "    def start_topics(self, attributes):\n",
    "        self.in_topics = 1\n",
    "\n",
    "    def end_topics(self):\n",
    "        self.in_topics = 0\n",
    "\n",
    "    def start_d(self, attributes):\n",
    "        self.in_topic_d = 1\n",
    "\n",
    "    def end_d(self):\n",
    "        self.in_topic_d = 0\n",
    "        self.topics.append(self.topic_d)\n",
    "        self.topic_d = \"\"\n",
    "\n",
    "\n",
    "def stream_reuters_documents(data_path=None):\n",
    "    \"\"\"Iterate over documents of the Reuters dataset.\n",
    "\n",
    "    The Reuters archive will automatically be downloaded and uncompressed if\n",
    "    the `data_path` directory does not exist.\n",
    "\n",
    "    Documents are represented as dictionaries with 'body' (str),\n",
    "    'title' (str), 'topics' (list(str)) keys.\n",
    "\n",
    "    \"\"\"\n",
    "\n",
    "    DOWNLOAD_URL = ('http://archive.ics.uci.edu/ml/machine-learning-databases/'\n",
    "                    'reuters21578-mld/reuters21578.tar.gz')\n",
    "    ARCHIVE_FILENAME = 'reuters21578.tar.gz'\n",
    "\n",
    "    if data_path is None:\n",
    "        data_path = os.path.join(get_data_home(), \"reuters\")\n",
    "    if not os.path.exists(data_path):\n",
    "        \"\"\"Download the dataset.\"\"\"\n",
    "        print(\"downloading dataset (once and for all) into %s\" %\n",
    "              data_path)\n",
    "        os.mkdir(data_path)\n",
    "\n",
    "        def progress(blocknum, bs, size):\n",
    "            total_sz_mb = '%.2f MB' % (size / 1e6)\n",
    "            current_sz_mb = '%.2f MB' % ((blocknum * bs) / 1e6)\n",
    "            if _not_in_sphinx():\n",
    "                sys.stdout.write(\n",
    "                    '\\rdownloaded %s / %s' % (current_sz_mb, total_sz_mb))\n",
    "\n",
    "        archive_path = os.path.join(data_path, ARCHIVE_FILENAME)\n",
    "        urlretrieve(DOWNLOAD_URL, filename=archive_path,\n",
    "                    reporthook=progress)\n",
    "        if _not_in_sphinx():\n",
    "            sys.stdout.write('\\r')\n",
    "        print(\"untarring Reuters dataset...\")\n",
    "        tarfile.open(archive_path, 'r:gz').extractall(data_path)\n",
    "        print(\"done.\")\n",
    "\n",
    "    parser = ReutersParser()\n",
    "    for filename in glob(os.path.join(data_path, \"*.sgm\")):\n",
    "        for doc in parser.parse(open(filename, 'rb')):\n",
    "            yield doc"
   ]
  },
  {
   "cell_type": "markdown",
   "metadata": {},
   "source": [
    "## 2.1.1 + 2.1.2"
   ]
  },
  {
   "cell_type": "markdown",
   "metadata": {},
   "source": [
    "We got the required information with slight manipulations of the code we were referred to."
   ]
  },
  {
   "cell_type": "code",
   "execution_count": 19,
   "metadata": {},
   "outputs": [
    {
     "name": "stdout",
     "output_type": "stream",
     "text": [
      "Number of documents is 19716\n",
      "Number of categories is 445\n",
      "Mean of documents per category is 89.87, standard deviation is 643.93, min is 1, max is 12542\n",
      "Number of words is 2638722\n",
      "Number of characters is 13343784\n"
     ]
    }
   ],
   "source": [
    "vectorizer = HashingVectorizer(decode_error='ignore', n_features=2 ** 18,\n",
    "                               alternate_sign=False)\n",
    "\n",
    "\n",
    "# Iterator over parsed Reuters SGML files.\n",
    "data_stream = stream_reuters_documents()\n",
    "\n",
    "# Here are some classifiers that support the `partial_fit` method\n",
    "partial_fit_classifiers = {\n",
    "    'SGD': SGDClassifier(max_iter=5),\n",
    "    'Perceptron': Perceptron(tol=1e-3),\n",
    "    'NB Multinomial': MultinomialNB(alpha=0.01),\n",
    "    'Passive-Aggressive': PassiveAggressiveClassifier(tol=1e-3),\n",
    "}\n",
    "\n",
    "categories_dict = {}\n",
    "def get_minibatch(doc_iter, size, pos_class=''):\n",
    "    \"\"\"Extract a minibatch of examples, return a tuple X_text, y.\n",
    "\n",
    "    Note: size is before excluding invalid docs with no topics assigned.\n",
    "\n",
    "    \"\"\"\n",
    "    \n",
    "    data = []\n",
    "    for doc in itertools.islice(doc_iter, size):\n",
    "        for topic in doc['topics']:\n",
    "            categories_dict[topic] = (categories_dict[topic] + 1) if topic in categories_dict else 1\n",
    "        if doc['topics']:\n",
    "            data.append((u'{title}\\n\\n{body}'.format(**doc), pos_class in doc['topics']))\n",
    "    if not len(data):\n",
    "        return np.asarray([], dtype=int), np.asarray([], dtype=int)\n",
    "    X_text, y = zip(*data)\n",
    "    return X_text, np.asarray(y, dtype=int)\n",
    "\n",
    "\n",
    "def iter_minibatches(doc_iter, minibatch_size):\n",
    "    \"\"\"Generator of minibatches.\"\"\"\n",
    "    X_text, y = get_minibatch(doc_iter, minibatch_size)\n",
    "    while len(X_text):\n",
    "        yield X_text, y\n",
    "        X_text, y = get_minibatch(doc_iter, minibatch_size)\n",
    "\n",
    "# We will feed the classifier with mini-batches of 1000 documents; this means\n",
    "# we have at most 1000 docs in memory at any time.  The smaller the document\n",
    "# batch, the bigger the relative overhead of the partial fit methods.\n",
    "minibatch_size = 1000\n",
    "\n",
    "# Create the data_stream that parses Reuters SGML files and iterates on\n",
    "# documents as a stream.\n",
    "minibatch_iterators = iter_minibatches(data_stream, minibatch_size)\n",
    "total_vect_time = 0.0\n",
    "\n",
    "num_docs = 0\n",
    "total_chars = 0\n",
    "total_words = 0\n",
    "num_docs = 0\n",
    "# Main loop : iterate on mini-batches of examples\n",
    "for i, (X_train_text, y_train) in enumerate(minibatch_iterators):\n",
    "\n",
    "    X_train = vectorizer.transform(X_train_text)\n",
    "    num_chars = 0\n",
    "    num_words = 0\n",
    "    for line in X_train_text:\n",
    "            words = line.split()\n",
    "            num_words += len(words)\n",
    "            for w in words:\n",
    "                num_chars += len(w)\n",
    "    total_chars += num_chars\n",
    "    total_words += num_words\n",
    "    num_docs += X_train.shape[0]\n",
    "\n",
    "print (\"Number of documents is {}\".format(num_docs))\n",
    "print (\"Number of categories is {}\".format(len(categories_dict)))\n",
    "\n",
    "categories_values = list(categories_dict.values())\n",
    "categories_mean, categories_sd = get_list_mean_sd(categories_values)\n",
    "\n",
    "print (\"Mean of documents per category is {}, standard deviation is {}, min is {}, max is {}\". \n",
    "      format(round(categories_mean, 2), round(categories_sd, 2), min(categories_dict.values()), max(categories_dict.values())))\n",
    "\n",
    "print (\"Number of words is {}\".format(total_words))\n",
    "print (\"Number of characters is {}\".format(total_chars))\n"
   ]
  },
  {
   "cell_type": "markdown",
   "metadata": {},
   "source": [
    "### 2.1.3"
   ]
  },
  {
   "cell_type": "markdown",
   "metadata": {},
   "source": [
    "The classifiers use the method partial fit in order to learn the tranining in chuncks - if we don't want to hold all the dataset in the RAM or maybe we can't do it since we get the training set as a stream of data, we want to be able to learn from the accessible data, and later on to adjust our classifier according to received data. In that case, we use a classifier which has this possibility. For example, the SGD classifier builds a function of the desired params of the classifier we're looking for, and then try to minimize it according to the samples it gets, while it sample from the dataset stochastically, and adjusts the result according the specific sample. It's clear that it might take the samples from a stream. This is also useful in case that newer data is more relevant than old data, and then it's possible to control the adjusment rate."
   ]
  },
  {
   "cell_type": "markdown",
   "metadata": {},
   "source": [
    "### 2.1.4"
   ]
  },
  {
   "cell_type": "markdown",
   "metadata": {},
   "source": [
    "The hashing vectorizer takes a text document and converts it to a vector holding the counts of tokens in the text. It's being used under the assumption that there is a very small probability that 2 different samples will be converted to the same vector. Than the classifiers take the received vector as the sample to learn from (or predict on). It's important to acheive 'streaming classification' since there is no state computed during fit."
   ]
  },
  {
   "cell_type": "markdown",
   "metadata": {},
   "source": [
    "## 2.2: Spam Dataset"
   ]
  },
  {
   "cell_type": "markdown",
   "metadata": {},
   "source": [
    "### 2.2.1"
   ]
  },
  {
   "cell_type": "markdown",
   "metadata": {},
   "source": [
    "Following is the given notebook code. Can be ignored."
   ]
  },
  {
   "cell_type": "code",
   "execution_count": 20,
   "metadata": {},
   "outputs": [
    {
     "name": "stdout",
     "output_type": "stream",
     "text": [
      "Percent: [##################################################] 100%"
     ]
    }
   ],
   "source": [
    "%matplotlib inline\n",
    "import os\n",
    "import sys\n",
    "import numpy\n",
    "from pandas import DataFrame\n",
    "from sklearn.feature_extraction.text import CountVectorizer\n",
    "from sklearn.naive_bayes import MultinomialNB\n",
    "from sklearn.pipeline import Pipeline\n",
    "from sklearn.model_selection import KFold\n",
    "from sklearn.metrics import confusion_matrix, f1_score\n",
    "\n",
    "def progress(i, end_val, bar_length=50):\n",
    "    '''\n",
    "    Print a progress bar of the form: Percent: [#####      ]\n",
    "    i is the current progress value expected in a range [0..end_val]\n",
    "    bar_length is the width of the progress bar on the screen.\n",
    "    '''\n",
    "    percent = float(i) / end_val\n",
    "    hashes = '#' * int(round(percent * bar_length))\n",
    "    spaces = ' ' * (bar_length - len(hashes))\n",
    "    sys.stdout.write(\"\\rPercent: [{0}] {1}%\".format(hashes + spaces, int(round(percent * 100))))\n",
    "    sys.stdout.flush()\n",
    "\n",
    "NEWLINE = '\\n'\n",
    "HAM = 'ham'\n",
    "SPAM = 'spam'\n",
    "\n",
    "SOURCES = [\n",
    "    ('../data/spam/spam',        SPAM),\n",
    "    ('../data/spam/easy_ham',    HAM),\n",
    "    ('../data/spam/hard_ham',    HAM),\n",
    "    ('../data/spam/beck-s',      HAM),\n",
    "    ('../data/spam/farmer-d',    HAM),\n",
    "    ('../data/spam/kaminski-v',  HAM),\n",
    "    ('../data/spam/kitchen-l',   HAM),\n",
    "    ('../data/spam/lokay-m',     HAM),\n",
    "    ('../data/spam/williams-w3', HAM),\n",
    "    ('../data/spam/BG',          SPAM),\n",
    "    ('../data/spam/GP',          SPAM),\n",
    "    ('../data/spam/SH',          SPAM)\n",
    "]\n",
    "\n",
    "SKIP_FILES = {'cmds'}\n",
    "\n",
    "\n",
    "def read_files(path):\n",
    "    '''\n",
    "    Generator of pairs (filename, filecontent)\n",
    "    for all files below path whose name is not in SKIP_FILES.\n",
    "    The content of the file is of the form:\n",
    "        header....\n",
    "        <emptyline>\n",
    "        body...\n",
    "    This skips the headers and returns body only.\n",
    "    '''\n",
    "    for root, dir_names, file_names in os.walk(path):\n",
    "        for path in dir_names:\n",
    "            read_files(os.path.join(root, path))\n",
    "        for file_name in file_names:\n",
    "            if file_name not in SKIP_FILES:\n",
    "                file_path = os.path.join(root, file_name)\n",
    "                if os.path.isfile(file_path):\n",
    "                    past_header, lines = False, []\n",
    "                    f = open(file_path, encoding=\"latin-1\")\n",
    "                    for line in f:\n",
    "                        if past_header:\n",
    "                            lines.append(line)\n",
    "                        elif line == NEWLINE:\n",
    "                            past_header = True\n",
    "                    f.close()\n",
    "                    content = NEWLINE.join(lines)\n",
    "                    yield file_path, content\n",
    "\n",
    "\n",
    "def build_data_frame(l, path, classification):\n",
    "    rows = []\n",
    "    index = []\n",
    "    for i, (file_name, text) in enumerate(read_files(path)):\n",
    "        if ((i+l) % 100 == 0):\n",
    "            progress(i+l, 58910, 50)\n",
    "        rows.append({'text': text, 'class': classification})\n",
    "        index.append(file_name)\n",
    "   \n",
    "    data_frame = DataFrame(rows, index=index)\n",
    "    return data_frame, len(rows)\n",
    "\n",
    "def load_data():\n",
    "    data = DataFrame({'text': [], 'class': []})\n",
    "    l = 0\n",
    "    for path, classification in SOURCES:\n",
    "        data_frame, nrows = build_data_frame(l, path, classification)\n",
    "        data = data.append(data_frame, sort=False)\n",
    "        l += nrows\n",
    "    data = data.reindex(numpy.random.permutation(data.index))\n",
    "    return data\n",
    "\n",
    "# This should take about 2 minutes\n",
    "data=load_data()"
   ]
  },
  {
   "cell_type": "code",
   "execution_count": 21,
   "metadata": {},
   "outputs": [],
   "source": [
    "def build_pipeline():\n",
    "    pipeline = Pipeline([\n",
    "        ('count_vectorizer',   CountVectorizer(ngram_range=(1, 2))),\n",
    "        ('classifier',         MultinomialNB())\n",
    "    ])\n",
    "    return pipeline\n",
    "\n",
    "def train(data = None, n_folds = 6):\n",
    "    if data is None:\n",
    "        print(\"Loading data...\")\n",
    "        data = load_data()\n",
    "        print(\"Data loaded\")\n",
    "    k_fold = KFold(n_splits = n_folds)\n",
    "    pipeline = build_pipeline()\n",
    "    scores = []\n",
    "    confusion = numpy.array([[0, 0], [0, 0]])\n",
    "    print(\"Training with %d folds\" % n_folds)\n",
    "    for i, (train_indices, test_indices) in enumerate(k_fold.split(data)):\n",
    "        train_text = data.iloc[train_indices]['text'].values\n",
    "        train_y = data.iloc[train_indices]['class'].values.astype(str)\n",
    "\n",
    "        test_text = data.iloc[test_indices]['text'].values\n",
    "        test_y = data.iloc[test_indices]['class'].values.astype(str)\n",
    "\n",
    "        print(\"Training for fold %d\" % i)\n",
    "        pipeline.fit(train_text, train_y)\n",
    "        print(\"Testing for fold %d\" % i)\n",
    "        predictions = pipeline.predict(test_text)\n",
    "\n",
    "        confusion += confusion_matrix(test_y, predictions)\n",
    "        score = f1_score(test_y, predictions, pos_label=SPAM)\n",
    "        scores.append(score)\n",
    "        print(\"Score for %d: %2.2f\" % (i, score))\n",
    "        print(\"Confusion matrix for %d: \" % i)\n",
    "        print(confusion)\n",
    "\n",
    "    print('Total emails classified:', len(data))\n",
    "    print('Score:', sum(scores)/len(scores))\n",
    "    print('Confusion matrix:')\n",
    "    print(confusion)\n",
    "    return pipeline"
   ]
  },
  {
   "cell_type": "code",
   "execution_count": 22,
   "metadata": {},
   "outputs": [
    {
     "name": "stdout",
     "output_type": "stream",
     "text": [
      "Training with 6 folds\n",
      "Training for fold 0\n",
      "Testing for fold 0\n",
      "Score for 0: 0.98\n",
      "Confusion matrix for 0: \n",
      "[[3854   18]\n",
      " [ 267 5680]]\n",
      "Training for fold 1\n",
      "Testing for fold 1\n",
      "Score for 1: 0.98\n",
      "Confusion matrix for 1: \n",
      "[[ 7772    35]\n",
      " [  496 11335]]\n",
      "Training for fold 2\n",
      "Testing for fold 2\n",
      "Score for 2: 0.98\n",
      "Confusion matrix for 2: \n",
      "[[11711    50]\n",
      " [  741 16954]]\n",
      "Training for fold 3\n",
      "Testing for fold 3\n",
      "Score for 3: 0.98\n",
      "Confusion matrix for 3: \n",
      "[[15641    65]\n",
      " [  966 22602]]\n",
      "Training for fold 4\n",
      "Testing for fold 4\n",
      "Score for 4: 0.98\n",
      "Confusion matrix for 4: \n",
      "[[19501    74]\n",
      " [ 1201 28316]]\n",
      "Training for fold 5\n",
      "Testing for fold 5\n",
      "Score for 5: 0.98\n",
      "Confusion matrix for 5: \n",
      "[[23450    89]\n",
      " [ 1427 33944]]\n",
      "Total emails classified: 58910\n",
      "Score: 0.9781590913527961\n",
      "Confusion matrix:\n",
      "[[23450    89]\n",
      " [ 1427 33944]]\n"
     ]
    }
   ],
   "source": [
    "pipeline = train(data)"
   ]
  },
  {
   "cell_type": "markdown",
   "metadata": {},
   "source": [
    "### 2.2.1"
   ]
  },
  {
   "cell_type": "markdown",
   "metadata": {},
   "source": [
    "Obviously, we expect much more bigrams than unigrams."
   ]
  },
  {
   "cell_type": "code",
   "execution_count": 23,
   "metadata": {},
   "outputs": [],
   "source": [
    "feature_number = len(pipeline.get_params()['count_vectorizer'].get_feature_names())"
   ]
  },
  {
   "cell_type": "code",
   "execution_count": 24,
   "metadata": {},
   "outputs": [
    {
     "name": "stdout",
     "output_type": "stream",
     "text": [
      "Number of unigrams is 615615 and number of bigrams is 2949080\n"
     ]
    }
   ],
   "source": [
    "bigrams_count = 0\n",
    "for feature_name in pipeline.get_params()['count_vectorizer'].get_feature_names():\n",
    "    if (' ' in feature_name):\n",
    "        bigrams_count +=1\n",
    "\n",
    "print (\"Number of unigrams is {} and number of bigrams is {}\".format(feature_number - bigrams_count, bigrams_count))"
   ]
  },
  {
   "cell_type": "markdown",
   "metadata": {},
   "source": [
    "### 2.2.2"
   ]
  },
  {
   "cell_type": "code",
   "execution_count": 25,
   "metadata": {},
   "outputs": [],
   "source": [
    "cv = CountVectorizer(ngram_range=(1, 2))\n",
    "\n",
    "all_indices = range(0, len(data))\n",
    "\n",
    "def print_50_freq_bi_uni(indices):\n",
    "\n",
    "    text = data.iloc[indices]['text'].values\n",
    "    y = data.iloc[indices]['class'].values.astype(str)\n",
    "    vec = cv.fit(text, y)\n",
    "    bag_of_words = vec.transform(text)\n",
    "    sum_words = bag_of_words.sum(axis=0)\n",
    "    words_freq = [(word, sum_words[0, idx]) for word, idx in vec.vocabulary_.items()]\n",
    "    words_freq_sorted =sorted(words_freq, key = lambda x: x[1], reverse=True)\n",
    "    unigrams_count = 0\n",
    "    bigrams_count = 0\n",
    "    unigrams = []\n",
    "    bigrams = []\n",
    "    for i in range(len(words_freq_sorted)):\n",
    "        if ' ' in words_freq_sorted[i][0]:\n",
    "            bigrams.append(words_freq_sorted[i][0])\n",
    "            bigrams_count += 1\n",
    "            if (bigrams_count == 50):\n",
    "                break\n",
    "        elif unigrams_count < 50:\n",
    "            unigrams.append(words_freq_sorted[i][0])\n",
    "            unigrams_count += 1\n",
    "    print(\"50 most frequent unigrams are:\\n{}\\n\".format(unigrams))\n",
    "    print(\"50 most frequent bigrams are:\\n{}\\n\".format(bigrams))\n"
   ]
  },
  {
   "cell_type": "code",
   "execution_count": 26,
   "metadata": {},
   "outputs": [
    {
     "name": "stdout",
     "output_type": "stream",
     "text": [
      "50 most frequent unigrams are:\n",
      "['font', '3d', 'the', 'br', 'td', 'to', 'and', 'nbsp', 'of', 'http', '20', 'size', 'tr', 'in', 'width', 'com', 'you', 'face', 'for', 'border', 'is', 'style', 'this', 'align', 'span', 'href', 'height', 'html', 'color', 'www', 'that', 'on', 'your', 'content', 'table', 'with', 'be', 'div', 'arial', 'it', 'from', 'we', 'or', 'center', 'img', 'as', 'enron', 'src', 'are', 'text']\n",
      "\n",
      "50 most frequent bigrams are:\n",
      "['nbsp nbsp', 'br br', 'font size', 'td tr', 'http www', 'font face', 'td td', 'tr td', '3d http', 'style 3d', 'font td', 'tr tr', 'href 3d', 'font font', 'of the', 'td width', 'color 3d', 'font color', 'img src', 'href http', 'in the', 'arial helvetica', 'width 3d', 'sans serif', 'face 3d', 'size 3d2', 'align center', 'content type', 'helvetica sans', 'bgcolor 3d', 'src http', '1px solid', 'gif width', 'font family', 'tr table', 'size 3d', 'face 3darial', 'br font', 'face 3dverdana', '3d font', 'src 3d', 'span style', 'text html', 'face arial', 'align 3d', 'td align', 'size 3d1', 'if you', 'body html', 'html charset']\n",
      "\n"
     ]
    }
   ],
   "source": [
    "print_50_freq_bi_uni(all_indices)"
   ]
  },
  {
   "cell_type": "markdown",
   "metadata": {},
   "source": [
    "At first glance it would seems very surprising that 'the' and the other most common words in english don't take all the first places. It's also surprising in second glance, but we need to remember that we are dealing with a lot of emails, which will explain how 'http' got to be in the top ten. Also, we are dealing with a lot of spam, which probably has different word frequencies, which might explain '3d' and 'size', for example. However, how 'font', 'br', 'td', and other non-words (and the weirdest 'nbsp nbsp' which is the most frequent bigram!) got to be so common, is a mystery. "
   ]
  },
  {
   "cell_type": "markdown",
   "metadata": {},
   "source": [
    "### 2.2.3"
   ]
  },
  {
   "cell_type": "code",
   "execution_count": 27,
   "metadata": {},
   "outputs": [
    {
     "name": "stdout",
     "output_type": "stream",
     "text": [
      "Most frequent for spam:\n",
      "\n",
      "50 most frequent unigrams are:\n",
      "['font', '3d', 'br', 'td', 'nbsp', 'the', 'size', 'tr', 'to', '20', 'http', 'and', 'width', 'of', 'face', 'border', 'style', 'span', 'align', 'com', 'in', 'color', 'html', 'you', 'href', 'height', 'content', 'is', 'this', 'www', 'div', 'for', 'your', 'arial', 'table', 'center', 'text', 'img', 'class', 'body', 'src', 'strong', 'or', '3d2', '3d0', 'that', 'type', 'with', 'be', 'bgcolor']\n",
      "\n",
      "50 most frequent bigrams are:\n",
      "['nbsp nbsp', 'br br', 'font size', 'td tr', 'font face', 'td td', 'tr td', '3d http', 'style 3d', 'http www', 'font td', 'tr tr', 'href 3d', 'font font', 'color 3d', 'font color', 'td width', 'arial helvetica', 'width 3d', 'face 3d', 'size 3d2', 'sans serif', 'content type', 'align center', 'helvetica sans', '1px solid', 'href http', 'bgcolor 3d', 'font family', 'face 3darial', 'size 3d', 'face 3dverdana', '3d font', 'img src', 'of the', 'br font', 'span style', 'tr table', 'text html', 'align 3d', 'size 3d1', 'td align', 'src 3d', 'body html', 'html charset', 'in the', 'border 3d0', '3d border', 'content 3d', 'face arial']\n",
      "\n",
      "Most frequent for ham:\n",
      "\n",
      "50 most frequent unigrams are:\n",
      "['the', 'to', 'and', 'of', 'in', 'com', 'for', 'enron', 'is', 'on', 'http', 'that', 'you', 'td', 'this', 'it', 'with', 'be', 'ect', '20', 'width', 'have', 'from', 'will', 'www', 'as', 'we', 'at', '3d', 'are', 'by', 'font', 'or', 'tr', 'if', 'not', 'your', 'br', 'height', '09', 'src', 'gif', 'img', 'an', '10', 'hou', 'has', 'was', '2001', 'href']\n",
      "\n",
      "50 most frequent bigrams are:\n",
      "['http www', 'of the', 'in the', 'img src', 'hou ect', 'ect ect', 'src http', 'gif width', 'href http', 'to the', 'on the', 'for the', '09 09', 'td width', 'td tr', 'td td', 'will be', 'cnet com', 'com gif', 'if you', 'to be', 'tr td', 'com click', 'width height', 'enron enron', 'online com', 'http clickthru', 'clickthru online', 'font face', 'enron com', 'with the', 'the company', 'and the', 'pm to', 'at the', '3d http', 'zdnet com', 'www cnet', 'you have', 'tr table', 'that the', 'www zdnet', 'arial helvetica', 'width 3d', 'height td', 'am to', 'message from', 'original message', 'from the', 'font td']\n",
      "\n"
     ]
    }
   ],
   "source": [
    "y = data.iloc[all_indices]['class'].values.astype(str)\n",
    "print(\"Most frequent for spam:\\n\")\n",
    "spam_indices = [idx for idx in all_indices if y[idx] == 'spam']\n",
    "print_50_freq_bi_uni(spam_indices)\n",
    "\n",
    "print(\"Most frequent for ham:\\n\")\n",
    "ham_indices = [idx for idx in all_indices if y[idx] == 'ham']\n",
    "print_50_freq_bi_uni(ham_indices)"
   ]
  },
  {
   "cell_type": "markdown",
   "metadata": {},
   "source": [
    "Now things look much better: in the 'ham' part, we see results of normal English, although email related. Probably, the spam wasn't what the 'people' call spam, such as advertisements, but it was constructed from pile of meaningless garbage."
   ]
  },
  {
   "cell_type": "markdown",
   "metadata": {},
   "source": [
    "### 2.2.4"
   ]
  },
  {
   "cell_type": "markdown",
   "metadata": {},
   "source": [
    "We expect to get the following results: the best features will be those words that appear only in one of the classes 'spam' and 'ham' - we can be (almost) totally sure when classifying according to these features. Therefore, a possible output might be gibrish for the 'spam' features, since we don't expect to get meaningless words in real emails. In the other direction, a possible output for the best of 'ham' features might be very meaningful words, such as scientific words, which we don't expect to see in spam emails\\SMSs.\n",
    "\n",
    "The coef_ of the classifier holds the weights of the features for the classifiction text (after the training). Therefore, we need to take the indices of the highest and lowest 20 weights, and find the appropriate features."
   ]
  },
  {
   "cell_type": "code",
   "execution_count": 28,
   "metadata": {},
   "outputs": [],
   "source": [
    "feature_names = pipeline.get_params()['count_vectorizer'].get_feature_names()\n",
    "top20 = np.argsort(pipeline.get_params()['classifier'].coef_[0])[-20:]\n",
    "low20 = np.argsort(pipeline.get_params()['classifier'].coef_[0])[:20]"
   ]
  },
  {
   "cell_type": "code",
   "execution_count": 29,
   "metadata": {},
   "outputs": [
    {
     "name": "stdout",
     "output_type": "stream",
     "text": [
      "align\n",
      "span\n",
      "style\n",
      "face\n",
      "br br\n",
      "width\n",
      "of\n",
      "nbsp nbsp\n",
      "and\n",
      "http\n",
      "20\n",
      "to\n",
      "tr\n",
      "size\n",
      "the\n",
      "nbsp\n",
      "td\n",
      "br\n",
      "3d\n",
      "font\n",
      "\n",
      "\n",
      "\n",
      "imac ipod\n",
      "has forward\n",
      "has formally\n",
      "has forgotten\n",
      "has forfeited\n",
      "has forced\n",
      "has followed\n",
      "has folded\n",
      "has fm\n",
      "has fluctuated\n",
      "has flowed\n",
      "has forwarded\n",
      "has flourished\n",
      "has flexmode\n",
      "has fixed\n",
      "has five\n",
      "has firmly\n",
      "has firm\n",
      "has fired\n",
      "has finite\n"
     ]
    }
   ],
   "source": [
    "for idx in top20:\n",
    "    print (feature_names[idx])\n",
    "print(\"\\n\\n\")\n",
    "for idx in low20:\n",
    "    print (feature_names[idx])"
   ]
  },
  {
   "cell_type": "markdown",
   "metadata": {},
   "source": [
    "### 2.2.5"
   ]
  },
  {
   "cell_type": "markdown",
   "metadata": {},
   "source": [
    "In general, normalization is required for classifiers which are affected by the absolute values of the features, or by the relative differences between the features (there is also a speed improvement for some algorithms by normalization, but as it doesn't change the output, it's less relevant for the question). In the first group we can find regularized algorithms, and in the second group appear k-nearest neighbors, for example. Since irregularized naive bayes and regression algorithms don't fall in both categories, there shouldn't be any improvement by normalizing the extra feature to be in the same range as the others.\n",
    "\n",
    "In general, adding 'good' features (i.e. features that we know by prior information that they are relevant) to the model should improve the learning unless there're too many features which leads to overfitting. In our case, there're so many features as it is (number of word types), that another feature shouldn't do much harm regarding overfitting. Since this we expect this feature to be more predictive then many of the word type features, we expect the learning algorithms to perform better."
   ]
  },
  {
   "cell_type": "markdown",
   "metadata": {},
   "source": [
    "### 2.2.6"
   ]
  },
  {
   "cell_type": "code",
   "execution_count": 30,
   "metadata": {},
   "outputs": [
    {
     "name": "stdout",
     "output_type": "stream",
     "text": [
      "Training with 6 folds\n",
      "Training for fold 0\n",
      "Testing for fold 0\n",
      "Score for 0: 0.98\n",
      "Confusion matrix for 0: \n",
      "[[3850   22]\n",
      " [ 225 5722]]\n",
      "Training for fold 1\n",
      "Testing for fold 1\n",
      "Score for 1: 0.98\n",
      "Confusion matrix for 1: \n",
      "[[ 7766    41]\n",
      " [  435 11396]]\n",
      "Training for fold 2\n",
      "Testing for fold 2\n",
      "Score for 2: 0.98\n",
      "Confusion matrix for 2: \n",
      "[[11703    58]\n",
      " [  644 17051]]\n",
      "Training for fold 3\n",
      "Testing for fold 3\n",
      "Score for 3: 0.98\n",
      "Confusion matrix for 3: \n",
      "[[15625    81]\n",
      " [  839 22729]]\n",
      "Training for fold 4\n",
      "Testing for fold 4\n",
      "Score for 4: 0.98\n",
      "Confusion matrix for 4: \n",
      "[[19480    95]\n",
      " [ 1035 28482]]\n",
      "Training for fold 5\n",
      "Testing for fold 5\n",
      "Score for 5: 0.98\n",
      "Confusion matrix for 5: \n",
      "[[23423   116]\n",
      " [ 1227 34144]]\n",
      "Total emails classified: 58910\n",
      "Score: 0.9807132210394963\n",
      "Confusion matrix:\n",
      "[[23423   116]\n",
      " [ 1227 34144]]\n"
     ]
    }
   ],
   "source": [
    "from sklearn.base import TransformerMixin\n",
    "\n",
    "class LengthTransformer(TransformerMixin):\n",
    "    def __init__(self):\n",
    "        pass\n",
    "\n",
    "    def fit(self, X, y=None):\n",
    "        return self\n",
    "\n",
    "    def transform(self, X):\n",
    "        return [[len(datum)] for datum in X]\n",
    "\n",
    "from sklearn.pipeline import FeatureUnion\n",
    "\n",
    "def build_pipeline():\n",
    "    pipeline = Pipeline([\n",
    "        ('features', FeatureUnion([\n",
    "            ('count_vectorizer',   CountVectorizer(ngram_range=(1, 2))),\n",
    "            ('doc_length', LengthTransformer())\n",
    "        ])),\n",
    "        ('classifier',         MultinomialNB())\n",
    "    ])\n",
    "    return pipeline\n",
    "\n",
    "def train(data = None, n_folds = 6):\n",
    "    if data is None:\n",
    "        print(\"Loading data...\")\n",
    "        data = load_data()\n",
    "        print(\"Data loaded\")\n",
    "    k_fold = KFold(n_splits = n_folds)\n",
    "    pipeline = build_pipeline()\n",
    "    scores = []\n",
    "    confusion = numpy.array([[0, 0], [0, 0]])\n",
    "    print(\"Training with %d folds\" % n_folds)\n",
    "    for i, (train_indices, test_indices) in enumerate(k_fold.split(data)):\n",
    "        train_text = data.iloc[train_indices]['text'].values\n",
    "        train_y = data.iloc[train_indices]['class'].values.astype(str)\n",
    "\n",
    "        test_text = data.iloc[test_indices]['text'].values\n",
    "        test_y = data.iloc[test_indices]['class'].values.astype(str)\n",
    "\n",
    "        print(\"Training for fold %d\" % i)\n",
    "        pipeline.fit(train_text, train_y)\n",
    "        print(\"Testing for fold %d\" % i)\n",
    "        predictions = pipeline.predict(test_text)\n",
    "\n",
    "        confusion += confusion_matrix(test_y, predictions)\n",
    "        score = f1_score(test_y, predictions, pos_label=SPAM)\n",
    "        scores.append(score)\n",
    "        print(\"Score for %d: %2.2f\" % (i, score))\n",
    "        print(\"Confusion matrix for %d: \" % i)\n",
    "        print(confusion)\n",
    "\n",
    "    print('Total emails classified:', len(data))\n",
    "    print('Score:', sum(scores)/len(scores))\n",
    "    print('Confusion matrix:')\n",
    "    print(confusion)\n",
    "    return pipeline\n",
    "\n",
    "pipeline = train(data)"
   ]
  },
  {
   "cell_type": "markdown",
   "metadata": {},
   "source": [
    "Recall, that the fscore before the change was 0.9782823670397819, which means approximately 10% error reduction."
   ]
  },
  {
   "cell_type": "markdown",
   "metadata": {},
   "source": [
    "# 3: Named Entity Recognition"
   ]
  },
  {
   "cell_type": "markdown",
   "metadata": {},
   "source": [
    "In this task we will try to tag words in a text as: PER, LOC, ORG, MISC and O for person name, location, organization and none of this, respectively. Each word can tagged as B-X for word that begins the X name, I-X for word that into X name and O for words that are not names at all. \n",
    "for this task we use conll2002 corpus."
   ]
  },
  {
   "cell_type": "markdown",
   "metadata": {},
   "source": [
    "## 3.1: Features"
   ]
  },
  {
   "cell_type": "markdown",
   "metadata": {},
   "source": [
    "### 3.1.1: Feature Extraction"
   ]
  },
  {
   "cell_type": "markdown",
   "metadata": {},
   "source": [
    "So, we will transform every word to dictionary of it's features. In the first try we wikk try this:\n",
    "    - The word form (the string as it appears in the sentence)\n",
    "    - The POS of the word (which is provided in the dataset)\n",
    "    - ORT - a feature that captures the orthographic (letter) structure of the word. It can have any of the following values: number, contains-digit, contains-hyphen, capitalized, all-capitals, URL, punctuation, regular.\n",
    "    - prefix1: first letter of the word\n",
    "    - prefix2: first two letters of the word\n",
    "    - prefix3: first three letters of the word\n",
    "    - suffix1: last letter of the word\n",
    "    - suffix2: last two letters of the word\n",
    "    - suffix3: last three letters of the word\n"
   ]
  },
  {
   "cell_type": "code",
   "execution_count": 33,
   "metadata": {},
   "outputs": [
    {
     "name": "stdout",
     "output_type": "stream",
     "text": [
      "[nltk_data] Downloading package conll2002 to\n",
      "[nltk_data]     /users/studs/bsc/2016/berendb/nltk_data...\n",
      "[nltk_data]   Unzipping corpora/conll2002.zip.\n"
     ]
    }
   ],
   "source": [
    "from sklearn.feature_extraction import DictVectorizer\n",
    "from sklearn.pipeline import Pipeline\n",
    "import nltk\n",
    "nltk.download('conll2002')\n",
    "\n",
    "def hasNumbers(inputString):\n",
    "    return any(char.isdigit() for char in inputString)\n",
    "\n",
    "def features2vector(data_sent):\n",
    "    features = [sent2features(sent) for sent in data_sent]\n",
    "    f_feathures = [item for sent in features for item in sent]\n",
    "    return f_feathures\n",
    "\n",
    "def labels2vector(data_sent):\n",
    "    labels = [sent2labels(sent) for sent in data_sent]\n",
    "    f_labels = [item for sent in labels for item in sent]\n",
    "    return f_labels\n",
    "\n",
    "def sent2features(sent):\n",
    "    return [word2features(sent, i) for i in range(len(sent))]\n",
    "\n",
    "def sent2labels(sent):\n",
    "    return [label for token, postag, label in sent]\n",
    "\n",
    "def word2features(sent, i):\n",
    "    word = sent[i][0]\n",
    "    postag = sent[i][1]\n",
    "    features = {\n",
    "        'word form': word,\n",
    "        'pos': postag,\n",
    "        'ORT number': 1 if word.isdigit() else 0,\n",
    "        'ORT contain number': 1 if hasNumbers(word) else 0,\n",
    "        'ORT all-capitals': 1 if word.isupper() else 0,\n",
    "        'ORT capitalized': 1 if word[:1].isupper() else 0,\n",
    "        'ORT punctuation': 1 if (c in string.punctuation() for c in word) else 0,\n",
    "        'preffix1': word[:1],\n",
    "        'preffix2': word[:2],\n",
    "        'preffix3': word[:3],\n",
    "        'suffix1': word[-1:],\n",
    "        'suffix2': word[-2:],\n",
    "        'suffix3': word[-3:],\n",
    "    }           \n",
    "    return features"
   ]
  },
  {
   "cell_type": "code",
   "execution_count": 34,
   "metadata": {},
   "outputs": [
    {
     "data": {
      "text/plain": [
       "{'word form': 'Melbourne',\n",
       " 'pos': 'NP',\n",
       " 'ORT number': 0,\n",
       " 'ORT contain number': 0,\n",
       " 'ORT all-capitals': 0,\n",
       " 'ORT capitalized': 1,\n",
       " 'ORT punctuation': 1,\n",
       " 'preffix1': 'M',\n",
       " 'preffix2': 'Me',\n",
       " 'preffix3': 'Mel',\n",
       " 'suffix1': 'e',\n",
       " 'suffix2': 'ne',\n",
       " 'suffix3': 'rne'}"
      ]
     },
     "execution_count": 34,
     "metadata": {},
     "output_type": "execute_result"
    }
   ],
   "source": [
    "train_sents = list(nltk.corpus.conll2002.iob_sents('esp.train'))\n",
    "dev_sents = list(nltk.corpus.conll2002.iob_sents('esp.testb'))\n",
    "sent2features(train_sents[0])[0]"
   ]
  },
  {
   "cell_type": "markdown",
   "metadata": {},
   "source": [
    "This was an example for a transformed word. Every dictionary that present word, will be transformed into a vector that captures this features."
   ]
  },
  {
   "cell_type": "markdown",
   "metadata": {},
   "source": [
    "### 3.1.2: Train"
   ]
  },
  {
   "cell_type": "code",
   "execution_count": 35,
   "metadata": {},
   "outputs": [],
   "source": [
    "from sklearn.linear_model import LogisticRegression\n",
    "import sklearn.metrics as metrics\n",
    "import pandas as pd\n",
    "\n",
    "def train_model(Xtrain, Ytrain):\n",
    "    clf = Pipeline([\n",
    "    ('vectorizer', DictVectorizer(sparse=True)),\n",
    "\t('classifier', LogisticRegression())\n",
    "    ])\n",
    "    clf.fit(Xtrain, Ytrain)\n",
    "    return clf"
   ]
  },
  {
   "cell_type": "code",
   "execution_count": 36,
   "metadata": {},
   "outputs": [
    {
     "name": "stderr",
     "output_type": "stream",
     "text": [
      "/users/studs/bsc/2016/berendb/miniconda3/lib/python3.7/site-packages/sklearn/linear_model/logistic.py:433: FutureWarning: Default solver will be changed to 'lbfgs' in 0.22. Specify a solver to silence this warning.\n",
      "  FutureWarning)\n",
      "/users/studs/bsc/2016/berendb/miniconda3/lib/python3.7/site-packages/sklearn/linear_model/logistic.py:460: FutureWarning: Default multi_class will be changed to 'auto' in 0.22. Specify the multi_class option to silence this warning.\n",
      "  \"this warning.\", FutureWarning)\n"
     ]
    },
    {
     "name": "stdout",
     "output_type": "stream",
     "text": [
      "0.9441134806822813\n",
      "              precision    recall  f1-score   support\n",
      "\n",
      "       B-LOC       0.65      0.70      0.67      1084\n",
      "      B-MISC       0.49      0.42      0.45       339\n",
      "       B-ORG       0.76      0.82      0.79      1400\n",
      "       B-PER       0.64      0.68      0.66       735\n",
      "       I-LOC       0.51      0.19      0.27       325\n",
      "      I-MISC       0.43      0.14      0.21       557\n",
      "       I-ORG       0.56      0.27      0.37      1104\n",
      "       I-PER       0.56      0.64      0.60       634\n",
      "           O       0.98      1.00      0.99     45355\n",
      "\n",
      "   micro avg       0.94      0.94      0.94     51533\n",
      "   macro avg       0.62      0.54      0.56     51533\n",
      "weighted avg       0.94      0.94      0.94     51533\n",
      "\n"
     ]
    }
   ],
   "source": [
    "Xtrain = features2vector(train_sents)\n",
    "Ytrain = labels2vector(train_sents)\n",
    "clf = train_model(Xtrain, Ytrain)\n",
    "Xtest = features2vector(dev_sents)\n",
    "Ypred = clf.predict(Xtest)\n",
    "Ytrue = labels2vector(dev_sents)\n",
    "print(clf.score(Xtest, Ytrue))\n",
    "print(metrics.classification_report(Ytrue, Ypred))\n"
   ]
  },
  {
   "cell_type": "code",
   "execution_count": 37,
   "metadata": {},
   "outputs": [
    {
     "name": "stdout",
     "output_type": "stream",
     "text": [
      "confusion matrix:\n"
     ]
    },
    {
     "data": {
      "text/html": [
       "<div>\n",
       "<style scoped>\n",
       "    .dataframe tbody tr th:only-of-type {\n",
       "        vertical-align: middle;\n",
       "    }\n",
       "\n",
       "    .dataframe tbody tr th {\n",
       "        vertical-align: top;\n",
       "    }\n",
       "\n",
       "    .dataframe thead th {\n",
       "        text-align: right;\n",
       "    }\n",
       "</style>\n",
       "<table border=\"1\" class=\"dataframe\">\n",
       "  <thead>\n",
       "    <tr style=\"text-align: right;\">\n",
       "      <th>Predicted Label</th>\n",
       "      <th>B-LOC</th>\n",
       "      <th>B-MISC</th>\n",
       "      <th>B-ORG</th>\n",
       "      <th>B-PER</th>\n",
       "      <th>I-LOC</th>\n",
       "      <th>I-MISC</th>\n",
       "      <th>I-ORG</th>\n",
       "      <th>I-PER</th>\n",
       "      <th>O</th>\n",
       "      <th>All</th>\n",
       "    </tr>\n",
       "    <tr>\n",
       "      <th>True Label</th>\n",
       "      <th></th>\n",
       "      <th></th>\n",
       "      <th></th>\n",
       "      <th></th>\n",
       "      <th></th>\n",
       "      <th></th>\n",
       "      <th></th>\n",
       "      <th></th>\n",
       "      <th></th>\n",
       "      <th></th>\n",
       "    </tr>\n",
       "  </thead>\n",
       "  <tbody>\n",
       "    <tr>\n",
       "      <th>B-LOC</th>\n",
       "      <td>763</td>\n",
       "      <td>4</td>\n",
       "      <td>125</td>\n",
       "      <td>43</td>\n",
       "      <td>15</td>\n",
       "      <td>13</td>\n",
       "      <td>20</td>\n",
       "      <td>43</td>\n",
       "      <td>58</td>\n",
       "      <td>1084</td>\n",
       "    </tr>\n",
       "    <tr>\n",
       "      <th>B-MISC</th>\n",
       "      <td>16</td>\n",
       "      <td>141</td>\n",
       "      <td>55</td>\n",
       "      <td>6</td>\n",
       "      <td>0</td>\n",
       "      <td>17</td>\n",
       "      <td>27</td>\n",
       "      <td>13</td>\n",
       "      <td>64</td>\n",
       "      <td>339</td>\n",
       "    </tr>\n",
       "    <tr>\n",
       "      <th>B-ORG</th>\n",
       "      <td>93</td>\n",
       "      <td>23</td>\n",
       "      <td>1147</td>\n",
       "      <td>43</td>\n",
       "      <td>2</td>\n",
       "      <td>1</td>\n",
       "      <td>30</td>\n",
       "      <td>29</td>\n",
       "      <td>32</td>\n",
       "      <td>1400</td>\n",
       "    </tr>\n",
       "    <tr>\n",
       "      <th>B-PER</th>\n",
       "      <td>52</td>\n",
       "      <td>4</td>\n",
       "      <td>21</td>\n",
       "      <td>503</td>\n",
       "      <td>10</td>\n",
       "      <td>4</td>\n",
       "      <td>12</td>\n",
       "      <td>117</td>\n",
       "      <td>12</td>\n",
       "      <td>735</td>\n",
       "    </tr>\n",
       "    <tr>\n",
       "      <th>I-LOC</th>\n",
       "      <td>54</td>\n",
       "      <td>7</td>\n",
       "      <td>22</td>\n",
       "      <td>24</td>\n",
       "      <td>61</td>\n",
       "      <td>1</td>\n",
       "      <td>28</td>\n",
       "      <td>29</td>\n",
       "      <td>99</td>\n",
       "      <td>325</td>\n",
       "    </tr>\n",
       "    <tr>\n",
       "      <th>I-MISC</th>\n",
       "      <td>33</td>\n",
       "      <td>19</td>\n",
       "      <td>29</td>\n",
       "      <td>24</td>\n",
       "      <td>4</td>\n",
       "      <td>77</td>\n",
       "      <td>71</td>\n",
       "      <td>25</td>\n",
       "      <td>275</td>\n",
       "      <td>557</td>\n",
       "    </tr>\n",
       "    <tr>\n",
       "      <th>I-ORG</th>\n",
       "      <td>128</td>\n",
       "      <td>66</td>\n",
       "      <td>68</td>\n",
       "      <td>27</td>\n",
       "      <td>14</td>\n",
       "      <td>49</td>\n",
       "      <td>301</td>\n",
       "      <td>52</td>\n",
       "      <td>399</td>\n",
       "      <td>1104</td>\n",
       "    </tr>\n",
       "    <tr>\n",
       "      <th>I-PER</th>\n",
       "      <td>34</td>\n",
       "      <td>3</td>\n",
       "      <td>9</td>\n",
       "      <td>102</td>\n",
       "      <td>14</td>\n",
       "      <td>11</td>\n",
       "      <td>30</td>\n",
       "      <td>405</td>\n",
       "      <td>26</td>\n",
       "      <td>634</td>\n",
       "    </tr>\n",
       "    <tr>\n",
       "      <th>O</th>\n",
       "      <td>9</td>\n",
       "      <td>18</td>\n",
       "      <td>28</td>\n",
       "      <td>9</td>\n",
       "      <td>0</td>\n",
       "      <td>6</td>\n",
       "      <td>23</td>\n",
       "      <td>7</td>\n",
       "      <td>45255</td>\n",
       "      <td>45355</td>\n",
       "    </tr>\n",
       "    <tr>\n",
       "      <th>All</th>\n",
       "      <td>1182</td>\n",
       "      <td>285</td>\n",
       "      <td>1504</td>\n",
       "      <td>781</td>\n",
       "      <td>120</td>\n",
       "      <td>179</td>\n",
       "      <td>542</td>\n",
       "      <td>720</td>\n",
       "      <td>46220</td>\n",
       "      <td>51533</td>\n",
       "    </tr>\n",
       "  </tbody>\n",
       "</table>\n",
       "</div>"
      ],
      "text/plain": [
       "Predicted Label  B-LOC  B-MISC  B-ORG  B-PER  I-LOC  I-MISC  I-ORG  I-PER  \\\n",
       "True Label                                                                  \n",
       "B-LOC              763       4    125     43     15      13     20     43   \n",
       "B-MISC              16     141     55      6      0      17     27     13   \n",
       "B-ORG               93      23   1147     43      2       1     30     29   \n",
       "B-PER               52       4     21    503     10       4     12    117   \n",
       "I-LOC               54       7     22     24     61       1     28     29   \n",
       "I-MISC              33      19     29     24      4      77     71     25   \n",
       "I-ORG              128      66     68     27     14      49    301     52   \n",
       "I-PER               34       3      9    102     14      11     30    405   \n",
       "O                    9      18     28      9      0       6     23      7   \n",
       "All               1182     285   1504    781    120     179    542    720   \n",
       "\n",
       "Predicted Label      O    All  \n",
       "True Label                     \n",
       "B-LOC               58   1084  \n",
       "B-MISC              64    339  \n",
       "B-ORG               32   1400  \n",
       "B-PER               12    735  \n",
       "I-LOC               99    325  \n",
       "I-MISC             275    557  \n",
       "I-ORG              399   1104  \n",
       "I-PER               26    634  \n",
       "O                45255  45355  \n",
       "All              46220  51533  "
      ]
     },
     "execution_count": 37,
     "metadata": {},
     "output_type": "execute_result"
    }
   ],
   "source": [
    "print(\"confusion matrix:\")\n",
    "y_true = pd.Series(Ytrue)\n",
    "y_pred = pd.Series(Ypred)\n",
    "pd.crosstab(y_true, y_pred, rownames=['True Label'], colnames=['Predicted Label'], margins=True)"
   ]
  },
  {
   "cell_type": "markdown",
   "metadata": {},
   "source": [
    "The results seems pretty good by first look, but in second one you can see that the f-score of every tag except 'O', is not so high. The problem here is that 'O' tag capture most of the words, so even if it's predict everithing as 'O' the total  f-score will be pretty high.\n",
    "Let's add some more features and see if there is improvement."
   ]
  },
  {
   "cell_type": "code",
   "execution_count": 38,
   "metadata": {},
   "outputs": [],
   "source": [
    "def word2extend_features(sent, i):\n",
    "    feature = word2features(sent, i)\n",
    "    word = sent[i][0]\n",
    "    postag = sent[i][1]\n",
    "    prev_word = ''\n",
    "    prev_postag = ''\n",
    "    next_word = ''\n",
    "    next_postag = ''\n",
    "    if i > 0:\n",
    "        prev_word = sent[i-1][0]\n",
    "        prev_postag = sent[i-1][1]\n",
    "    if i < len(sent) - 1:\n",
    "        next_word = sent[i+1][0]\n",
    "        next_postag = sent[i+1][1]\n",
    "    ext = {\n",
    "        'has hyphen': 1 if '-' in word else 0,\n",
    "        'place': i,\n",
    "        'sent len': len(sent),\n",
    "        'prev word': prev_word,\n",
    "        'prev postag': prev_postag,\n",
    "        'next word': next_word,\n",
    "        'next postag': next_postag\n",
    "    }\n",
    "    feature.update(ext)\n",
    "    return feature"
   ]
  },
  {
   "cell_type": "code",
   "execution_count": 39,
   "metadata": {},
   "outputs": [],
   "source": [
    "def extends_features2vector(data_sent):\n",
    "    features = [sent2extendsfeatures(sent) for sent in data_sent]\n",
    "    f_feathures = [item for sent in features for item in sent]\n",
    "    return f_feathures\n",
    "\n",
    "def sent2extendsfeatures(sent):\n",
    "    return [word2extend_features(sent, i) for i in range(len(sent))]\n"
   ]
  },
  {
   "cell_type": "code",
   "execution_count": 40,
   "metadata": {},
   "outputs": [
    {
     "name": "stdout",
     "output_type": "stream",
     "text": [
      "0.9588613121689015\n",
      "              precision    recall  f1-score   support\n",
      "\n",
      "       B-LOC       0.73      0.71      0.72      1084\n",
      "      B-MISC       0.54      0.42      0.47       339\n",
      "       B-ORG       0.78      0.83      0.81      1400\n",
      "       B-PER       0.83      0.87      0.85       735\n",
      "       I-LOC       0.72      0.39      0.50       325\n",
      "      I-MISC       0.59      0.27      0.38       557\n",
      "       I-ORG       0.74      0.52      0.61      1104\n",
      "       I-PER       0.77      0.90      0.83       634\n",
      "           O       0.98      1.00      0.99     45355\n",
      "\n",
      "   micro avg       0.96      0.96      0.96     51533\n",
      "   macro avg       0.74      0.66      0.68     51533\n",
      "weighted avg       0.95      0.96      0.96     51533\n",
      "\n"
     ]
    }
   ],
   "source": [
    "Xtrain = extends_features2vector(train_sents)\n",
    "Ytrain = labels2vector(train_sents)\n",
    "clf = train_model(Xtrain, Ytrain)\n",
    "Xtest = extends_features2vector(dev_sents)\n",
    "Ypred = clf.predict(Xtest)\n",
    "Ytrue = labels2vector(dev_sents)\n",
    "print(clf.score(Xtest, Ytrue))\n",
    "print(metrics.classification_report(Ytrue, Ypred))"
   ]
  },
  {
   "cell_type": "code",
   "execution_count": 41,
   "metadata": {},
   "outputs": [
    {
     "name": "stdout",
     "output_type": "stream",
     "text": [
      "confusion matrix:\n"
     ]
    },
    {
     "data": {
      "text/html": [
       "<div>\n",
       "<style scoped>\n",
       "    .dataframe tbody tr th:only-of-type {\n",
       "        vertical-align: middle;\n",
       "    }\n",
       "\n",
       "    .dataframe tbody tr th {\n",
       "        vertical-align: top;\n",
       "    }\n",
       "\n",
       "    .dataframe thead th {\n",
       "        text-align: right;\n",
       "    }\n",
       "</style>\n",
       "<table border=\"1\" class=\"dataframe\">\n",
       "  <thead>\n",
       "    <tr style=\"text-align: right;\">\n",
       "      <th>Predicted Label</th>\n",
       "      <th>B-LOC</th>\n",
       "      <th>B-MISC</th>\n",
       "      <th>B-ORG</th>\n",
       "      <th>B-PER</th>\n",
       "      <th>I-LOC</th>\n",
       "      <th>I-MISC</th>\n",
       "      <th>I-ORG</th>\n",
       "      <th>I-PER</th>\n",
       "      <th>O</th>\n",
       "      <th>All</th>\n",
       "    </tr>\n",
       "    <tr>\n",
       "      <th>True Label</th>\n",
       "      <th></th>\n",
       "      <th></th>\n",
       "      <th></th>\n",
       "      <th></th>\n",
       "      <th></th>\n",
       "      <th></th>\n",
       "      <th></th>\n",
       "      <th></th>\n",
       "      <th></th>\n",
       "      <th></th>\n",
       "    </tr>\n",
       "  </thead>\n",
       "  <tbody>\n",
       "    <tr>\n",
       "      <th>B-LOC</th>\n",
       "      <td>768</td>\n",
       "      <td>6</td>\n",
       "      <td>132</td>\n",
       "      <td>44</td>\n",
       "      <td>14</td>\n",
       "      <td>7</td>\n",
       "      <td>33</td>\n",
       "      <td>19</td>\n",
       "      <td>61</td>\n",
       "      <td>1084</td>\n",
       "    </tr>\n",
       "    <tr>\n",
       "      <th>B-MISC</th>\n",
       "      <td>23</td>\n",
       "      <td>141</td>\n",
       "      <td>60</td>\n",
       "      <td>5</td>\n",
       "      <td>1</td>\n",
       "      <td>14</td>\n",
       "      <td>19</td>\n",
       "      <td>12</td>\n",
       "      <td>64</td>\n",
       "      <td>339</td>\n",
       "    </tr>\n",
       "    <tr>\n",
       "      <th>B-ORG</th>\n",
       "      <td>97</td>\n",
       "      <td>15</td>\n",
       "      <td>1168</td>\n",
       "      <td>48</td>\n",
       "      <td>1</td>\n",
       "      <td>8</td>\n",
       "      <td>22</td>\n",
       "      <td>19</td>\n",
       "      <td>22</td>\n",
       "      <td>1400</td>\n",
       "    </tr>\n",
       "    <tr>\n",
       "      <th>B-PER</th>\n",
       "      <td>24</td>\n",
       "      <td>3</td>\n",
       "      <td>19</td>\n",
       "      <td>643</td>\n",
       "      <td>2</td>\n",
       "      <td>2</td>\n",
       "      <td>7</td>\n",
       "      <td>23</td>\n",
       "      <td>12</td>\n",
       "      <td>735</td>\n",
       "    </tr>\n",
       "    <tr>\n",
       "      <th>I-LOC</th>\n",
       "      <td>29</td>\n",
       "      <td>4</td>\n",
       "      <td>11</td>\n",
       "      <td>7</td>\n",
       "      <td>126</td>\n",
       "      <td>10</td>\n",
       "      <td>40</td>\n",
       "      <td>28</td>\n",
       "      <td>70</td>\n",
       "      <td>325</td>\n",
       "    </tr>\n",
       "    <tr>\n",
       "      <th>I-MISC</th>\n",
       "      <td>20</td>\n",
       "      <td>28</td>\n",
       "      <td>22</td>\n",
       "      <td>6</td>\n",
       "      <td>12</td>\n",
       "      <td>153</td>\n",
       "      <td>65</td>\n",
       "      <td>11</td>\n",
       "      <td>240</td>\n",
       "      <td>557</td>\n",
       "    </tr>\n",
       "    <tr>\n",
       "      <th>I-ORG</th>\n",
       "      <td>81</td>\n",
       "      <td>50</td>\n",
       "      <td>51</td>\n",
       "      <td>4</td>\n",
       "      <td>15</td>\n",
       "      <td>41</td>\n",
       "      <td>579</td>\n",
       "      <td>53</td>\n",
       "      <td>230</td>\n",
       "      <td>1104</td>\n",
       "    </tr>\n",
       "    <tr>\n",
       "      <th>I-PER</th>\n",
       "      <td>9</td>\n",
       "      <td>2</td>\n",
       "      <td>1</td>\n",
       "      <td>9</td>\n",
       "      <td>2</td>\n",
       "      <td>6</td>\n",
       "      <td>14</td>\n",
       "      <td>570</td>\n",
       "      <td>21</td>\n",
       "      <td>634</td>\n",
       "    </tr>\n",
       "    <tr>\n",
       "      <th>O</th>\n",
       "      <td>8</td>\n",
       "      <td>14</td>\n",
       "      <td>28</td>\n",
       "      <td>8</td>\n",
       "      <td>3</td>\n",
       "      <td>17</td>\n",
       "      <td>8</td>\n",
       "      <td>4</td>\n",
       "      <td>45265</td>\n",
       "      <td>45355</td>\n",
       "    </tr>\n",
       "    <tr>\n",
       "      <th>All</th>\n",
       "      <td>1059</td>\n",
       "      <td>263</td>\n",
       "      <td>1492</td>\n",
       "      <td>774</td>\n",
       "      <td>176</td>\n",
       "      <td>258</td>\n",
       "      <td>787</td>\n",
       "      <td>739</td>\n",
       "      <td>45985</td>\n",
       "      <td>51533</td>\n",
       "    </tr>\n",
       "  </tbody>\n",
       "</table>\n",
       "</div>"
      ],
      "text/plain": [
       "Predicted Label  B-LOC  B-MISC  B-ORG  B-PER  I-LOC  I-MISC  I-ORG  I-PER  \\\n",
       "True Label                                                                  \n",
       "B-LOC              768       6    132     44     14       7     33     19   \n",
       "B-MISC              23     141     60      5      1      14     19     12   \n",
       "B-ORG               97      15   1168     48      1       8     22     19   \n",
       "B-PER               24       3     19    643      2       2      7     23   \n",
       "I-LOC               29       4     11      7    126      10     40     28   \n",
       "I-MISC              20      28     22      6     12     153     65     11   \n",
       "I-ORG               81      50     51      4     15      41    579     53   \n",
       "I-PER                9       2      1      9      2       6     14    570   \n",
       "O                    8      14     28      8      3      17      8      4   \n",
       "All               1059     263   1492    774    176     258    787    739   \n",
       "\n",
       "Predicted Label      O    All  \n",
       "True Label                     \n",
       "B-LOC               61   1084  \n",
       "B-MISC              64    339  \n",
       "B-ORG               22   1400  \n",
       "B-PER               12    735  \n",
       "I-LOC               70    325  \n",
       "I-MISC             240    557  \n",
       "I-ORG              230   1104  \n",
       "I-PER               21    634  \n",
       "O                45265  45355  \n",
       "All              45985  51533  "
      ]
     },
     "execution_count": 41,
     "metadata": {},
     "output_type": "execute_result"
    }
   ],
   "source": [
    "print(\"confusion matrix:\")\n",
    "y_true = pd.Series(Ytrue)\n",
    "y_pred = pd.Series(Ypred)\n",
    "pd.crosstab(y_true, y_pred, rownames=['True Label'], colnames=['Predicted Label'], margins=True)"
   ]
  },
  {
   "cell_type": "markdown",
   "metadata": {},
   "source": [
    "All the results got better, some by far. Total fscore improved from 0.944 to 0.958 which is an error reduction of 25% approximately."
   ]
  },
  {
   "cell_type": "markdown",
   "metadata": {},
   "source": [
    "### 3.1.3: Illegal Tags Sequences"
   ]
  },
  {
   "cell_type": "markdown",
   "metadata": {},
   "source": [
    "Our predictor predicts without optimizing sequence of tags, so there is a lot of illegal sequence in the prediction tags. We provide code that gets prediction of tags sequence and returns a table where the entry i,j represent the frequency of the mistake of kind j in type i. The mistake kinds of type X are: O-IX, IX-IY, BX-IY, IY-IX, BY-IX."
   ]
  },
  {
   "cell_type": "code",
   "execution_count": 51,
   "metadata": {},
   "outputs": [],
   "source": [
    "import numpy as np\n",
    "def find_illegal_seq(Ypred, types):\n",
    "    illegl = np.zeros((4,6))\n",
    "    types_counter = np.zeros((len(types),), dtype=int)\n",
    "    for t in types:\n",
    "        for i in range(1, len(Ypred)):\n",
    "            p = Ypred[i]\n",
    "            if p[2:] == t:\n",
    "                types_counter[types.index(t)]+=1\n",
    "                if p[0] == 'I':\n",
    "                    if Ypred[i-1] == 'O':\n",
    "                        illegl[types.index(t)][0] += 1\n",
    "                    elif not Ypred[i-1][2:] == t:\n",
    "                        l = (3 if Ypred[i-1][0] == 'I'  else 4)\n",
    "                        illegl[types.index(t)][l] += 1\n",
    "                    if i < len(Ypred) and not (Ypred[i+1])[2:] == t:\n",
    "                        illegl[types.index(t)][1] += 1\n",
    "                elif p[0] == 'B':\n",
    "                    if i < len(Ypred)-1 and not ((Ypred[i+1])[2:] == t):\n",
    "                        illegl[types.index(t)][2] += 1\n",
    "    \n",
    "    for i in range(len(types)):\n",
    "        for j in  range(5):\n",
    "            illegl[i][j] = round(illegl[i][j]/types_counter[i], 2)\n",
    "            \n",
    "    return illegl\n",
    "\n",
    "def print_illegal_matrix(illegal, types):\n",
    "    print('Mistake type\\tO-IX\\tIX-IY\\tBX-IY\\tIY-IX\\tBY-IX')\n",
    "    print('Tag type')\n",
    "    for i in range(len(types)):\n",
    "        print(types[i]+'\\t\\t'+str(illegal[i][0])+'\\t'+str(illegal[i][1])+'\\t'+str(illegal[i][2])+'\\t'+str(illegal[i][3])+'\\t'+str(illegal[i][4]))\n",
    "    "
   ]
  },
  {
   "cell_type": "code",
   "execution_count": 52,
   "metadata": {},
   "outputs": [
    {
     "name": "stdout",
     "output_type": "stream",
     "text": [
      "Mistake type\tO-IX\tIX-IY\tBX-IY\tIY-IX\tBY-IX\n",
      "Tag type\n",
      "LOC\t\t0.03\t0.12\t0.78\t0.01\t0.01\n",
      "MISC\t\t0.17\t0.38\t0.36\t0.04\t0.05\n",
      "ORG\t\t0.07\t0.25\t0.51\t0.01\t0.02\n",
      "PER\t\t0.07\t0.42\t0.19\t0.01\t0.02\n"
     ]
    }
   ],
   "source": [
    "types = ['LOC', 'MISC', 'ORG', 'PER']\n",
    "i = find_illegal_seq(Ypred, types)\n",
    "print_illegal_matrix(i, types)"
   ]
  },
  {
   "cell_type": "markdown",
   "metadata": {},
   "source": [
    "As we can see, the major problems were when continuing, i.e. transitioning from BX or IX to IY. The explanation might be that the model is generally good with identifying the sequences of NER, including cases when the entity was composed from more than one word, but the similarities between the entities (Nouns, start with capital letters) caused mislabeling the sub-parts of the entity correctly."
   ]
  },
  {
   "cell_type": "markdown",
   "metadata": {},
   "source": [
    "##  3.2: Using Word Embeddings"
   ]
  },
  {
   "cell_type": "markdown",
   "metadata": {},
   "source": [
    "Now we try to improve our NER task by adding word vector as extra features of the word. we treat every entry in the vector as new feature in the features of the word. In case that we can, we add the word vectors of the previous and next words, so we expect that the tags sequence will improve."
   ]
  },
  {
   "cell_type": "code",
   "execution_count": null,
   "metadata": {},
   "outputs": [],
   "source": [
    "import gensim\n",
    "from gensim.models import word2vec\n",
    "from gensim.models.keyedvectors import KeyedVectors\n",
    "vec_file_name = '../wiki.es.vec'\n",
    "wordvectors = KeyedVectors.load_word2vec_format(vec_file_name)"
   ]
  },
  {
   "cell_type": "code",
   "execution_count": 45,
   "metadata": {},
   "outputs": [],
   "source": [
    "def word2extend_features_with_wv(sent, i):\n",
    "    feature = word2extend_features(sent, i)\n",
    "    word = sent[i][0]\n",
    "    try:\n",
    "        wv =  wordvectors.wv[word]\n",
    "        feature.update(wv2feature(wv))\n",
    "    except:\n",
    "        pass            \n",
    "    if i > 0:\n",
    "        prev_word = sent[i-1][0]\n",
    "        try:\n",
    "            pwv =  wordvectors.wv[prev_word]\n",
    "            feature.update(wv2feature(pwv))\n",
    "        except:\n",
    "            pass\n",
    "    if i < len(sent) - 1:\n",
    "        next_word = sent[i+1][0]\n",
    "        try:\n",
    "            nwv =  wordvectors.wv[next_word]\n",
    "            feature.update(wv2feature(nwv))\n",
    "        except:\n",
    "            pass\n",
    "    return feature\n",
    "\n",
    "def wv2feature(wv):\n",
    "    f = {}\n",
    "    for i in range(len(wv)):\n",
    "        f_i = {\n",
    "            'f'+str(i): wv[i]\n",
    "        }\n",
    "        f.update(f_i)\n",
    "    return f"
   ]
  },
  {
   "cell_type": "code",
   "execution_count": 46,
   "metadata": {},
   "outputs": [],
   "source": [
    "def extends_features2vector2(data_sent):\n",
    "    features = [sent2extendsfeatures2(sent) for sent in data_sent]\n",
    "    f_feathures = [item for sent in features for item in sent]\n",
    "    return f_feathures\n",
    "\n",
    "def sent2extendsfeatures2(sent):\n",
    "    return [word2extend_features_with_wv(sent, i) for i in range(len(sent))]"
   ]
  },
  {
   "cell_type": "code",
   "execution_count": 47,
   "metadata": {},
   "outputs": [
    {
     "name": "stdout",
     "output_type": "stream",
     "text": [
      "0.9588613121689015\n",
      "              precision    recall  f1-score   support\n",
      "\n",
      "       B-LOC       0.73      0.71      0.72      1084\n",
      "      B-MISC       0.54      0.42      0.47       339\n",
      "       B-ORG       0.78      0.83      0.81      1400\n",
      "       B-PER       0.83      0.87      0.85       735\n",
      "       I-LOC       0.72      0.39      0.50       325\n",
      "      I-MISC       0.59      0.27      0.38       557\n",
      "       I-ORG       0.74      0.52      0.61      1104\n",
      "       I-PER       0.77      0.90      0.83       634\n",
      "           O       0.98      1.00      0.99     45355\n",
      "\n",
      "   micro avg       0.96      0.96      0.96     51533\n",
      "   macro avg       0.74      0.66      0.68     51533\n",
      "weighted avg       0.95      0.96      0.96     51533\n",
      "\n"
     ]
    }
   ],
   "source": [
    "Xtrain = extends_features2vector2(train_sents)\n",
    "Ytrain = labels2vector(train_sents)\n",
    "clf = train_model(Xtrain, Ytrain)\n",
    "Xtest = extends_features2vector2(dev_sents)\n",
    "Ypred = clf.predict(Xtest)\n",
    "Ytrue = labels2vector(dev_sents)\n",
    "print(clf.score(Xtest, Ytrue))\n",
    "print(metrics.classification_report(Ytrue, Ypred))"
   ]
  },
  {
   "cell_type": "code",
   "execution_count": 48,
   "metadata": {},
   "outputs": [
    {
     "name": "stdout",
     "output_type": "stream",
     "text": [
      "confusion matrix:\n"
     ]
    },
    {
     "data": {
      "text/html": [
       "<div>\n",
       "<style scoped>\n",
       "    .dataframe tbody tr th:only-of-type {\n",
       "        vertical-align: middle;\n",
       "    }\n",
       "\n",
       "    .dataframe tbody tr th {\n",
       "        vertical-align: top;\n",
       "    }\n",
       "\n",
       "    .dataframe thead th {\n",
       "        text-align: right;\n",
       "    }\n",
       "</style>\n",
       "<table border=\"1\" class=\"dataframe\">\n",
       "  <thead>\n",
       "    <tr style=\"text-align: right;\">\n",
       "      <th>Predicted Label</th>\n",
       "      <th>B-LOC</th>\n",
       "      <th>B-MISC</th>\n",
       "      <th>B-ORG</th>\n",
       "      <th>B-PER</th>\n",
       "      <th>I-LOC</th>\n",
       "      <th>I-MISC</th>\n",
       "      <th>I-ORG</th>\n",
       "      <th>I-PER</th>\n",
       "      <th>O</th>\n",
       "      <th>All</th>\n",
       "    </tr>\n",
       "    <tr>\n",
       "      <th>True Label</th>\n",
       "      <th></th>\n",
       "      <th></th>\n",
       "      <th></th>\n",
       "      <th></th>\n",
       "      <th></th>\n",
       "      <th></th>\n",
       "      <th></th>\n",
       "      <th></th>\n",
       "      <th></th>\n",
       "      <th></th>\n",
       "    </tr>\n",
       "  </thead>\n",
       "  <tbody>\n",
       "    <tr>\n",
       "      <th>B-LOC</th>\n",
       "      <td>768</td>\n",
       "      <td>6</td>\n",
       "      <td>132</td>\n",
       "      <td>44</td>\n",
       "      <td>14</td>\n",
       "      <td>7</td>\n",
       "      <td>33</td>\n",
       "      <td>19</td>\n",
       "      <td>61</td>\n",
       "      <td>1084</td>\n",
       "    </tr>\n",
       "    <tr>\n",
       "      <th>B-MISC</th>\n",
       "      <td>23</td>\n",
       "      <td>141</td>\n",
       "      <td>60</td>\n",
       "      <td>5</td>\n",
       "      <td>1</td>\n",
       "      <td>14</td>\n",
       "      <td>19</td>\n",
       "      <td>12</td>\n",
       "      <td>64</td>\n",
       "      <td>339</td>\n",
       "    </tr>\n",
       "    <tr>\n",
       "      <th>B-ORG</th>\n",
       "      <td>97</td>\n",
       "      <td>15</td>\n",
       "      <td>1168</td>\n",
       "      <td>48</td>\n",
       "      <td>1</td>\n",
       "      <td>8</td>\n",
       "      <td>22</td>\n",
       "      <td>19</td>\n",
       "      <td>22</td>\n",
       "      <td>1400</td>\n",
       "    </tr>\n",
       "    <tr>\n",
       "      <th>B-PER</th>\n",
       "      <td>24</td>\n",
       "      <td>3</td>\n",
       "      <td>19</td>\n",
       "      <td>643</td>\n",
       "      <td>2</td>\n",
       "      <td>2</td>\n",
       "      <td>7</td>\n",
       "      <td>23</td>\n",
       "      <td>12</td>\n",
       "      <td>735</td>\n",
       "    </tr>\n",
       "    <tr>\n",
       "      <th>I-LOC</th>\n",
       "      <td>29</td>\n",
       "      <td>4</td>\n",
       "      <td>11</td>\n",
       "      <td>7</td>\n",
       "      <td>126</td>\n",
       "      <td>10</td>\n",
       "      <td>40</td>\n",
       "      <td>28</td>\n",
       "      <td>70</td>\n",
       "      <td>325</td>\n",
       "    </tr>\n",
       "    <tr>\n",
       "      <th>I-MISC</th>\n",
       "      <td>20</td>\n",
       "      <td>28</td>\n",
       "      <td>22</td>\n",
       "      <td>6</td>\n",
       "      <td>12</td>\n",
       "      <td>153</td>\n",
       "      <td>65</td>\n",
       "      <td>11</td>\n",
       "      <td>240</td>\n",
       "      <td>557</td>\n",
       "    </tr>\n",
       "    <tr>\n",
       "      <th>I-ORG</th>\n",
       "      <td>81</td>\n",
       "      <td>50</td>\n",
       "      <td>51</td>\n",
       "      <td>4</td>\n",
       "      <td>15</td>\n",
       "      <td>41</td>\n",
       "      <td>579</td>\n",
       "      <td>53</td>\n",
       "      <td>230</td>\n",
       "      <td>1104</td>\n",
       "    </tr>\n",
       "    <tr>\n",
       "      <th>I-PER</th>\n",
       "      <td>9</td>\n",
       "      <td>2</td>\n",
       "      <td>1</td>\n",
       "      <td>9</td>\n",
       "      <td>2</td>\n",
       "      <td>6</td>\n",
       "      <td>14</td>\n",
       "      <td>570</td>\n",
       "      <td>21</td>\n",
       "      <td>634</td>\n",
       "    </tr>\n",
       "    <tr>\n",
       "      <th>O</th>\n",
       "      <td>8</td>\n",
       "      <td>14</td>\n",
       "      <td>28</td>\n",
       "      <td>8</td>\n",
       "      <td>3</td>\n",
       "      <td>17</td>\n",
       "      <td>8</td>\n",
       "      <td>4</td>\n",
       "      <td>45265</td>\n",
       "      <td>45355</td>\n",
       "    </tr>\n",
       "    <tr>\n",
       "      <th>All</th>\n",
       "      <td>1059</td>\n",
       "      <td>263</td>\n",
       "      <td>1492</td>\n",
       "      <td>774</td>\n",
       "      <td>176</td>\n",
       "      <td>258</td>\n",
       "      <td>787</td>\n",
       "      <td>739</td>\n",
       "      <td>45985</td>\n",
       "      <td>51533</td>\n",
       "    </tr>\n",
       "  </tbody>\n",
       "</table>\n",
       "</div>"
      ],
      "text/plain": [
       "Predicted Label  B-LOC  B-MISC  B-ORG  B-PER  I-LOC  I-MISC  I-ORG  I-PER  \\\n",
       "True Label                                                                  \n",
       "B-LOC              768       6    132     44     14       7     33     19   \n",
       "B-MISC              23     141     60      5      1      14     19     12   \n",
       "B-ORG               97      15   1168     48      1       8     22     19   \n",
       "B-PER               24       3     19    643      2       2      7     23   \n",
       "I-LOC               29       4     11      7    126      10     40     28   \n",
       "I-MISC              20      28     22      6     12     153     65     11   \n",
       "I-ORG               81      50     51      4     15      41    579     53   \n",
       "I-PER                9       2      1      9      2       6     14    570   \n",
       "O                    8      14     28      8      3      17      8      4   \n",
       "All               1059     263   1492    774    176     258    787    739   \n",
       "\n",
       "Predicted Label      O    All  \n",
       "True Label                     \n",
       "B-LOC               61   1084  \n",
       "B-MISC              64    339  \n",
       "B-ORG               22   1400  \n",
       "B-PER               12    735  \n",
       "I-LOC               70    325  \n",
       "I-MISC             240    557  \n",
       "I-ORG              230   1104  \n",
       "I-PER               21    634  \n",
       "O                45265  45355  \n",
       "All              45985  51533  "
      ]
     },
     "execution_count": 48,
     "metadata": {},
     "output_type": "execute_result"
    }
   ],
   "source": [
    "print(\"confusion matrix:\")\n",
    "y_true = pd.Series(Ytrue)\n",
    "y_pred = pd.Series(Ypred)\n",
    "pd.crosstab(y_true, y_pred, rownames=['True Label'], colnames=['Predicted Label'], margins=True)"
   ]
  },
  {
   "cell_type": "code",
   "execution_count": 49,
   "metadata": {},
   "outputs": [
    {
     "name": "stdout",
     "output_type": "stream",
     "text": [
      "Mistake type\tO-IX\tIX-IY\tBX-IY\tIY-IX\tBY-IX\ttotal\n",
      "Tag type\n",
      "LOC\t\t0.03\t0.12\t0.78\t0.01\t0.01\t0.95\n",
      "MISC\t\t0.17\t0.38\t0.36\t0.04\t0.05\t1.0\n",
      "ORG\t\t0.07\t0.25\t0.51\t0.01\t0.02\t0.86\n",
      "PER\t\t0.07\t0.42\t0.19\t0.01\t0.02\t0.71\n"
     ]
    }
   ],
   "source": [
    "i = find_illegal_seq(Ypred, types)\n",
    "print_illegal_matrix(i, types)"
   ]
  },
  {
   "cell_type": "markdown",
   "metadata": {},
   "source": [
    "There is a little improvement in the frequency of the illegal sequences. It still high. Maybe if we add the word vector of every word in the sentence, and there was a vector for each word, the resuly will be more good. "
   ]
  },
  {
   "cell_type": "markdown",
   "metadata": {},
   "source": [
    "After finishing the work, we inserted it to the program we mentioned at the end of our previous work. The computer said it reminds him of the following joke:\n",
    "In the 19702, two KGB officers walk in a street somewhere in Moscow. Suddenly, they see a guy runs past them. One of them pulls out his gun, and shoots him. \n",
    "The other officer says: \"Hey, why did you do that?\"\n",
    "The first replies: \"What do you mean? It's curfew.\"\n",
    "The second: \"Yeah, but it hadn't started yet.\"\n",
    "The first answers: \"Oh, yeah, but this guy is a friend of mine. He won't make it home in time\"\n"
   ]
  }
 ],
 "metadata": {
  "kernelspec": {
   "display_name": "Python 3",
   "language": "python",
   "name": "python3"
  },
  "language_info": {
   "codemirror_mode": {
    "name": "ipython",
    "version": 3
   },
   "file_extension": ".py",
   "mimetype": "text/x-python",
   "name": "python",
   "nbconvert_exporter": "python",
   "pygments_lexer": "ipython3",
   "version": "3.7.1"
  }
 },
 "nbformat": 4,
 "nbformat_minor": 2
}
